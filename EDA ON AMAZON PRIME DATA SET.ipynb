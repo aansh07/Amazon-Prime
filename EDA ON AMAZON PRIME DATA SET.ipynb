{
 "cells": [
  {
   "cell_type": "code",
   "execution_count": 111,
   "id": "0b1d5720-c866-4f72-baa3-b0d021cba537",
   "metadata": {},
   "outputs": [],
   "source": [
    "import pandas as pd\n",
    "import numpy as np\n",
    "import matplotlib.pyplot as plt\n",
    "%matplotlib inline\n",
    "import seaborn as sns"
   ]
  },
  {
   "cell_type": "code",
   "execution_count": 112,
   "id": "d2060885-b0f4-400f-b3d2-eb734c817f51",
   "metadata": {},
   "outputs": [],
   "source": [
    "df=pd.read_csv(\"amazon_prime_titles.csv\")"
   ]
  },
  {
   "cell_type": "code",
   "execution_count": 113,
   "id": "6e9a0a6b-e246-4384-9366-62e520ac63bd",
   "metadata": {},
   "outputs": [
    {
     "data": {
      "text/html": [
       "<div>\n",
       "<style scoped>\n",
       "    .dataframe tbody tr th:only-of-type {\n",
       "        vertical-align: middle;\n",
       "    }\n",
       "\n",
       "    .dataframe tbody tr th {\n",
       "        vertical-align: top;\n",
       "    }\n",
       "\n",
       "    .dataframe thead th {\n",
       "        text-align: right;\n",
       "    }\n",
       "</style>\n",
       "<table border=\"1\" class=\"dataframe\">\n",
       "  <thead>\n",
       "    <tr style=\"text-align: right;\">\n",
       "      <th></th>\n",
       "      <th>show_id</th>\n",
       "      <th>type</th>\n",
       "      <th>title</th>\n",
       "      <th>director</th>\n",
       "      <th>cast</th>\n",
       "      <th>country</th>\n",
       "      <th>date_added</th>\n",
       "      <th>release_year</th>\n",
       "      <th>rating</th>\n",
       "      <th>duration</th>\n",
       "      <th>listed_in</th>\n",
       "    </tr>\n",
       "  </thead>\n",
       "  <tbody>\n",
       "    <tr>\n",
       "      <th>0</th>\n",
       "      <td>s1</td>\n",
       "      <td>Movie</td>\n",
       "      <td>The Grand Seduction</td>\n",
       "      <td>Don McKellar</td>\n",
       "      <td>Brendan Gleeson, Taylor Kitsch, Gordon Pinsent</td>\n",
       "      <td>Canada</td>\n",
       "      <td>March 30, 2021</td>\n",
       "      <td>2014</td>\n",
       "      <td>NaN</td>\n",
       "      <td>113 min</td>\n",
       "      <td>Comedy, Drama</td>\n",
       "    </tr>\n",
       "    <tr>\n",
       "      <th>1</th>\n",
       "      <td>s2</td>\n",
       "      <td>Movie</td>\n",
       "      <td>Take Care Good Night</td>\n",
       "      <td>Girish Joshi</td>\n",
       "      <td>Mahesh Manjrekar, Abhay Mahajan, Sachin Khedekar</td>\n",
       "      <td>India</td>\n",
       "      <td>March 30, 2021</td>\n",
       "      <td>2018</td>\n",
       "      <td>13+</td>\n",
       "      <td>110 min</td>\n",
       "      <td>Drama, International</td>\n",
       "    </tr>\n",
       "    <tr>\n",
       "      <th>2</th>\n",
       "      <td>s3</td>\n",
       "      <td>Movie</td>\n",
       "      <td>Secrets of Deception</td>\n",
       "      <td>Josh Webber</td>\n",
       "      <td>Tom Sizemore, Lorenzo Lamas, Robert LaSardo, R...</td>\n",
       "      <td>United States</td>\n",
       "      <td>March 30, 2021</td>\n",
       "      <td>2017</td>\n",
       "      <td>NaN</td>\n",
       "      <td>74 min</td>\n",
       "      <td>Action, Drama, Suspense</td>\n",
       "    </tr>\n",
       "    <tr>\n",
       "      <th>3</th>\n",
       "      <td>s4</td>\n",
       "      <td>Movie</td>\n",
       "      <td>Pink: Staying True</td>\n",
       "      <td>Sonia Anderson</td>\n",
       "      <td>Interviews with: Pink, Adele, Beyoncé, Britney...</td>\n",
       "      <td>United States</td>\n",
       "      <td>March 30, 2021</td>\n",
       "      <td>2014</td>\n",
       "      <td>NaN</td>\n",
       "      <td>69 min</td>\n",
       "      <td>Documentary</td>\n",
       "    </tr>\n",
       "    <tr>\n",
       "      <th>4</th>\n",
       "      <td>s5</td>\n",
       "      <td>Movie</td>\n",
       "      <td>Monster Maker</td>\n",
       "      <td>Giles Foster</td>\n",
       "      <td>Harry Dean Stanton, Kieran O'Brien, George Cos...</td>\n",
       "      <td>United Kingdom</td>\n",
       "      <td>March 30, 2021</td>\n",
       "      <td>1989</td>\n",
       "      <td>NaN</td>\n",
       "      <td>45 min</td>\n",
       "      <td>Drama, Fantasy</td>\n",
       "    </tr>\n",
       "  </tbody>\n",
       "</table>\n",
       "</div>"
      ],
      "text/plain": [
       "  show_id   type                 title        director  \\\n",
       "0      s1  Movie   The Grand Seduction    Don McKellar   \n",
       "1      s2  Movie  Take Care Good Night    Girish Joshi   \n",
       "2      s3  Movie  Secrets of Deception     Josh Webber   \n",
       "3      s4  Movie    Pink: Staying True  Sonia Anderson   \n",
       "4      s5  Movie         Monster Maker    Giles Foster   \n",
       "\n",
       "                                                cast         country  \\\n",
       "0     Brendan Gleeson, Taylor Kitsch, Gordon Pinsent          Canada   \n",
       "1   Mahesh Manjrekar, Abhay Mahajan, Sachin Khedekar           India   \n",
       "2  Tom Sizemore, Lorenzo Lamas, Robert LaSardo, R...   United States   \n",
       "3  Interviews with: Pink, Adele, Beyoncé, Britney...   United States   \n",
       "4  Harry Dean Stanton, Kieran O'Brien, George Cos...  United Kingdom   \n",
       "\n",
       "       date_added  release_year rating duration                listed_in  \n",
       "0  March 30, 2021          2014    NaN  113 min            Comedy, Drama  \n",
       "1  March 30, 2021          2018    13+  110 min     Drama, International  \n",
       "2  March 30, 2021          2017    NaN   74 min  Action, Drama, Suspense  \n",
       "3  March 30, 2021          2014    NaN   69 min              Documentary  \n",
       "4  March 30, 2021          1989    NaN   45 min           Drama, Fantasy  "
      ]
     },
     "execution_count": 113,
     "metadata": {},
     "output_type": "execute_result"
    }
   ],
   "source": [
    "df.head()"
   ]
  },
  {
   "cell_type": "code",
   "execution_count": 114,
   "id": "02cf0bb1-a00c-47bf-b067-8c89e413e476",
   "metadata": {},
   "outputs": [
    {
     "data": {
      "text/html": [
       "<div>\n",
       "<style scoped>\n",
       "    .dataframe tbody tr th:only-of-type {\n",
       "        vertical-align: middle;\n",
       "    }\n",
       "\n",
       "    .dataframe tbody tr th {\n",
       "        vertical-align: top;\n",
       "    }\n",
       "\n",
       "    .dataframe thead th {\n",
       "        text-align: right;\n",
       "    }\n",
       "</style>\n",
       "<table border=\"1\" class=\"dataframe\">\n",
       "  <thead>\n",
       "    <tr style=\"text-align: right;\">\n",
       "      <th></th>\n",
       "      <th>release_year</th>\n",
       "    </tr>\n",
       "  </thead>\n",
       "  <tbody>\n",
       "    <tr>\n",
       "      <th>count</th>\n",
       "      <td>9668.000000</td>\n",
       "    </tr>\n",
       "    <tr>\n",
       "      <th>mean</th>\n",
       "      <td>2008.341849</td>\n",
       "    </tr>\n",
       "    <tr>\n",
       "      <th>std</th>\n",
       "      <td>18.922482</td>\n",
       "    </tr>\n",
       "    <tr>\n",
       "      <th>min</th>\n",
       "      <td>1920.000000</td>\n",
       "    </tr>\n",
       "    <tr>\n",
       "      <th>25%</th>\n",
       "      <td>2007.000000</td>\n",
       "    </tr>\n",
       "    <tr>\n",
       "      <th>50%</th>\n",
       "      <td>2016.000000</td>\n",
       "    </tr>\n",
       "    <tr>\n",
       "      <th>75%</th>\n",
       "      <td>2019.000000</td>\n",
       "    </tr>\n",
       "    <tr>\n",
       "      <th>max</th>\n",
       "      <td>2021.000000</td>\n",
       "    </tr>\n",
       "  </tbody>\n",
       "</table>\n",
       "</div>"
      ],
      "text/plain": [
       "       release_year\n",
       "count   9668.000000\n",
       "mean    2008.341849\n",
       "std       18.922482\n",
       "min     1920.000000\n",
       "25%     2007.000000\n",
       "50%     2016.000000\n",
       "75%     2019.000000\n",
       "max     2021.000000"
      ]
     },
     "execution_count": 114,
     "metadata": {},
     "output_type": "execute_result"
    }
   ],
   "source": [
    "df.describe()"
   ]
  },
  {
   "cell_type": "code",
   "execution_count": 115,
   "id": "6524caf1-ab59-43a1-8b3a-7ab2b775cc56",
   "metadata": {},
   "outputs": [
    {
     "name": "stdout",
     "output_type": "stream",
     "text": [
      "<class 'pandas.core.frame.DataFrame'>\n",
      "RangeIndex: 9668 entries, 0 to 9667\n",
      "Data columns (total 11 columns):\n",
      " #   Column        Non-Null Count  Dtype \n",
      "---  ------        --------------  ----- \n",
      " 0   show_id       9668 non-null   object\n",
      " 1   type          9668 non-null   object\n",
      " 2   title         9668 non-null   object\n",
      " 3   director      7585 non-null   object\n",
      " 4   cast          8435 non-null   object\n",
      " 5   country       672 non-null    object\n",
      " 6   date_added    155 non-null    object\n",
      " 7   release_year  9668 non-null   int64 \n",
      " 8   rating        9331 non-null   object\n",
      " 9   duration      9668 non-null   object\n",
      " 10  listed_in     9668 non-null   object\n",
      "dtypes: int64(1), object(10)\n",
      "memory usage: 831.0+ KB\n"
     ]
    }
   ],
   "source": [
    "df.info()"
   ]
  },
  {
   "cell_type": "code",
   "execution_count": 116,
   "id": "babba56e-a43e-4611-ab6b-df6333541e58",
   "metadata": {},
   "outputs": [
    {
     "data": {
      "text/plain": [
       "show_id            0\n",
       "type               0\n",
       "title              0\n",
       "director        2083\n",
       "cast            1233\n",
       "country         8996\n",
       "date_added      9513\n",
       "release_year       0\n",
       "rating           337\n",
       "duration           0\n",
       "listed_in          0\n",
       "dtype: int64"
      ]
     },
     "execution_count": 116,
     "metadata": {},
     "output_type": "execute_result"
    }
   ],
   "source": [
    "df.isnull().sum()"
   ]
  },
  {
   "cell_type": "code",
   "execution_count": 117,
   "id": "789f9965-5fea-4543-9a7f-ee1f9d0a3091",
   "metadata": {},
   "outputs": [
    {
     "data": {
      "text/plain": [
       "['director', 'cast', 'country', 'date_added', 'rating']"
      ]
     },
     "execution_count": 117,
     "metadata": {},
     "output_type": "execute_result"
    }
   ],
   "source": [
    "[features for features in df.columns if df[features].isnull().sum()>0]"
   ]
  },
  {
   "cell_type": "markdown",
   "id": "2de2d527-7720-4280-a9d9-9f664ded21c7",
   "metadata": {},
   "source": [
    "#HANDLING OF NULL VALUES"
   ]
  },
  {
   "cell_type": "code",
   "execution_count": 118,
   "id": "10591050-6cb3-4bad-a5ab-ffa243a4611f",
   "metadata": {},
   "outputs": [],
   "source": [
    "df[\"director\"]=df[\"director\"].fillna(df[\"director\"].mode()[0])"
   ]
  },
  {
   "cell_type": "code",
   "execution_count": 119,
   "id": "5a472063-a41b-4bc7-93c9-dfc3c338db16",
   "metadata": {},
   "outputs": [],
   "source": [
    "df[\"cast\"]=df[\"cast\"].fillna(df[\"cast\"].mode()[0])"
   ]
  },
  {
   "cell_type": "code",
   "execution_count": 120,
   "id": "dd6f51da-127c-4ea1-b966-6055ecad28b8",
   "metadata": {},
   "outputs": [],
   "source": [
    "df[\"country\"]=df[\"country\"].fillna(df[\"country\"].mode()[0])"
   ]
  },
  {
   "cell_type": "code",
   "execution_count": 121,
   "id": "86981ce2-dd58-4e51-9d62-97deac7af104",
   "metadata": {},
   "outputs": [],
   "source": [
    "df[\"date_added\"]=df[\"date_added\"].fillna(df[\"date_added\"].mode()[0])"
   ]
  },
  {
   "cell_type": "code",
   "execution_count": 122,
   "id": "82511985-28bc-4a9e-b3d3-412a5efde67c",
   "metadata": {},
   "outputs": [],
   "source": [
    "df[\"rating\"]=df[\"rating\"].fillna(df[\"rating\"].mode()[0])"
   ]
  },
  {
   "cell_type": "markdown",
   "id": "00215dcd-f2bf-446e-af91-a7e1ed9c3a7f",
   "metadata": {},
   "source": [
    "#so now there is no null values present in the dataset."
   ]
  },
  {
   "cell_type": "code",
   "execution_count": 123,
   "id": "b9ea0647-7da8-439a-a709-ab87f76bf24a",
   "metadata": {},
   "outputs": [
    {
     "name": "stdout",
     "output_type": "stream",
     "text": [
      "<class 'pandas.core.frame.DataFrame'>\n",
      "RangeIndex: 9668 entries, 0 to 9667\n",
      "Data columns (total 11 columns):\n",
      " #   Column        Non-Null Count  Dtype \n",
      "---  ------        --------------  ----- \n",
      " 0   show_id       9668 non-null   object\n",
      " 1   type          9668 non-null   object\n",
      " 2   title         9668 non-null   object\n",
      " 3   director      9668 non-null   object\n",
      " 4   cast          9668 non-null   object\n",
      " 5   country       9668 non-null   object\n",
      " 6   date_added    9668 non-null   object\n",
      " 7   release_year  9668 non-null   int64 \n",
      " 8   rating        9668 non-null   object\n",
      " 9   duration      9668 non-null   object\n",
      " 10  listed_in     9668 non-null   object\n",
      "dtypes: int64(1), object(10)\n",
      "memory usage: 831.0+ KB\n"
     ]
    }
   ],
   "source": [
    "df.info()"
   ]
  },
  {
   "cell_type": "code",
   "execution_count": 124,
   "id": "5ed0f151-34ca-4d9b-9a62-19404558b31c",
   "metadata": {},
   "outputs": [
    {
     "data": {
      "text/html": [
       "<div>\n",
       "<style scoped>\n",
       "    .dataframe tbody tr th:only-of-type {\n",
       "        vertical-align: middle;\n",
       "    }\n",
       "\n",
       "    .dataframe tbody tr th {\n",
       "        vertical-align: top;\n",
       "    }\n",
       "\n",
       "    .dataframe thead th {\n",
       "        text-align: right;\n",
       "    }\n",
       "</style>\n",
       "<table border=\"1\" class=\"dataframe\">\n",
       "  <thead>\n",
       "    <tr style=\"text-align: right;\">\n",
       "      <th></th>\n",
       "      <th>show_id</th>\n",
       "      <th>type</th>\n",
       "      <th>title</th>\n",
       "      <th>director</th>\n",
       "      <th>cast</th>\n",
       "      <th>country</th>\n",
       "      <th>date_added</th>\n",
       "      <th>release_year</th>\n",
       "      <th>rating</th>\n",
       "      <th>duration</th>\n",
       "      <th>listed_in</th>\n",
       "    </tr>\n",
       "  </thead>\n",
       "  <tbody>\n",
       "    <tr>\n",
       "      <th>0</th>\n",
       "      <td>s1</td>\n",
       "      <td>Movie</td>\n",
       "      <td>The Grand Seduction</td>\n",
       "      <td>Don McKellar</td>\n",
       "      <td>Brendan Gleeson, Taylor Kitsch, Gordon Pinsent</td>\n",
       "      <td>Canada</td>\n",
       "      <td>March 30, 2021</td>\n",
       "      <td>2014</td>\n",
       "      <td>13+</td>\n",
       "      <td>113 min</td>\n",
       "      <td>Comedy, Drama</td>\n",
       "    </tr>\n",
       "    <tr>\n",
       "      <th>1</th>\n",
       "      <td>s2</td>\n",
       "      <td>Movie</td>\n",
       "      <td>Take Care Good Night</td>\n",
       "      <td>Girish Joshi</td>\n",
       "      <td>Mahesh Manjrekar, Abhay Mahajan, Sachin Khedekar</td>\n",
       "      <td>India</td>\n",
       "      <td>March 30, 2021</td>\n",
       "      <td>2018</td>\n",
       "      <td>13+</td>\n",
       "      <td>110 min</td>\n",
       "      <td>Drama, International</td>\n",
       "    </tr>\n",
       "    <tr>\n",
       "      <th>2</th>\n",
       "      <td>s3</td>\n",
       "      <td>Movie</td>\n",
       "      <td>Secrets of Deception</td>\n",
       "      <td>Josh Webber</td>\n",
       "      <td>Tom Sizemore, Lorenzo Lamas, Robert LaSardo, R...</td>\n",
       "      <td>United States</td>\n",
       "      <td>March 30, 2021</td>\n",
       "      <td>2017</td>\n",
       "      <td>13+</td>\n",
       "      <td>74 min</td>\n",
       "      <td>Action, Drama, Suspense</td>\n",
       "    </tr>\n",
       "    <tr>\n",
       "      <th>3</th>\n",
       "      <td>s4</td>\n",
       "      <td>Movie</td>\n",
       "      <td>Pink: Staying True</td>\n",
       "      <td>Sonia Anderson</td>\n",
       "      <td>Interviews with: Pink, Adele, Beyoncé, Britney...</td>\n",
       "      <td>United States</td>\n",
       "      <td>March 30, 2021</td>\n",
       "      <td>2014</td>\n",
       "      <td>13+</td>\n",
       "      <td>69 min</td>\n",
       "      <td>Documentary</td>\n",
       "    </tr>\n",
       "  </tbody>\n",
       "</table>\n",
       "</div>"
      ],
      "text/plain": [
       "  show_id   type                 title        director  \\\n",
       "0      s1  Movie   The Grand Seduction    Don McKellar   \n",
       "1      s2  Movie  Take Care Good Night    Girish Joshi   \n",
       "2      s3  Movie  Secrets of Deception     Josh Webber   \n",
       "3      s4  Movie    Pink: Staying True  Sonia Anderson   \n",
       "\n",
       "                                                cast        country  \\\n",
       "0     Brendan Gleeson, Taylor Kitsch, Gordon Pinsent         Canada   \n",
       "1   Mahesh Manjrekar, Abhay Mahajan, Sachin Khedekar          India   \n",
       "2  Tom Sizemore, Lorenzo Lamas, Robert LaSardo, R...  United States   \n",
       "3  Interviews with: Pink, Adele, Beyoncé, Britney...  United States   \n",
       "\n",
       "       date_added  release_year rating duration                listed_in  \n",
       "0  March 30, 2021          2014    13+  113 min            Comedy, Drama  \n",
       "1  March 30, 2021          2018    13+  110 min     Drama, International  \n",
       "2  March 30, 2021          2017    13+   74 min  Action, Drama, Suspense  \n",
       "3  March 30, 2021          2014    13+   69 min              Documentary  "
      ]
     },
     "execution_count": 124,
     "metadata": {},
     "output_type": "execute_result"
    }
   ],
   "source": [
    "df.head(4)"
   ]
  },
  {
   "cell_type": "markdown",
   "id": "de380173-e05e-43c7-97db-c8428610e07d",
   "metadata": {},
   "source": [
    "                                                         #UNIVARIATE ANALYSIS"
   ]
  },
  {
   "cell_type": "markdown",
   "id": "36b7cf17-bcf9-4ac8-b85c-0a14495af0b2",
   "metadata": {},
   "source": [
    "                                             Q1.How many types are Movies vs TV Shows?"
   ]
  },
  {
   "cell_type": "code",
   "execution_count": 125,
   "id": "b7b8a25b-c63a-4498-85af-c3e838db9dfd",
   "metadata": {},
   "outputs": [
    {
     "data": {
      "text/plain": [
       "<Axes: xlabel='count', ylabel='type'>"
      ]
     },
     "execution_count": 125,
     "metadata": {},
     "output_type": "execute_result"
    },
    {
     "data": {
      "image/png": "[encoded data removed]",
      "text/plain": [
       "<Figure size 640x480 with 1 Axes>"
      ]
     },
     "metadata": {},
     "output_type": "display_data"
    }
   ],
   "source": [
    "sns.countplot(df[\"type\"],color=\"red\")"
   ]
  },
  {
   "cell_type": "markdown",
   "id": "71e56e4c-b445-4336-bccb-68d73b83db4f",
   "metadata": {},
   "source": [
    "                                                                 # Conclusion:->\n",
    "                                                              1. Movies have more count than TV shows which means people are more\n",
    "                                                                investing their time in watching the movies rather than watching any \n",
    "                                                                TV shows because movies can be able to finish in very less time while \n",
    "                                                                the TV shows finishes in several days. \n"
   ]
  },
  {
   "cell_type": "code",
   "execution_count": 126,
   "id": "93baf9cf-b465-4817-b8af-e5ddeac3b583",
   "metadata": {},
   "outputs": [
    {
     "data": {
      "text/html": [
       "<div>\n",
       "<style scoped>\n",
       "    .dataframe tbody tr th:only-of-type {\n",
       "        vertical-align: middle;\n",
       "    }\n",
       "\n",
       "    .dataframe tbody tr th {\n",
       "        vertical-align: top;\n",
       "    }\n",
       "\n",
       "    .dataframe thead th {\n",
       "        text-align: right;\n",
       "    }\n",
       "</style>\n",
       "<table border=\"1\" class=\"dataframe\">\n",
       "  <thead>\n",
       "    <tr style=\"text-align: right;\">\n",
       "      <th></th>\n",
       "      <th>show_id</th>\n",
       "      <th>type</th>\n",
       "      <th>title</th>\n",
       "      <th>director</th>\n",
       "      <th>cast</th>\n",
       "      <th>country</th>\n",
       "      <th>date_added</th>\n",
       "      <th>release_year</th>\n",
       "      <th>rating</th>\n",
       "      <th>duration</th>\n",
       "      <th>listed_in</th>\n",
       "    </tr>\n",
       "  </thead>\n",
       "  <tbody>\n",
       "    <tr>\n",
       "      <th>0</th>\n",
       "      <td>s1</td>\n",
       "      <td>Movie</td>\n",
       "      <td>The Grand Seduction</td>\n",
       "      <td>Don McKellar</td>\n",
       "      <td>Brendan Gleeson, Taylor Kitsch, Gordon Pinsent</td>\n",
       "      <td>Canada</td>\n",
       "      <td>March 30, 2021</td>\n",
       "      <td>2014</td>\n",
       "      <td>13+</td>\n",
       "      <td>113 min</td>\n",
       "      <td>Comedy, Drama</td>\n",
       "    </tr>\n",
       "    <tr>\n",
       "      <th>1</th>\n",
       "      <td>s2</td>\n",
       "      <td>Movie</td>\n",
       "      <td>Take Care Good Night</td>\n",
       "      <td>Girish Joshi</td>\n",
       "      <td>Mahesh Manjrekar, Abhay Mahajan, Sachin Khedekar</td>\n",
       "      <td>India</td>\n",
       "      <td>March 30, 2021</td>\n",
       "      <td>2018</td>\n",
       "      <td>13+</td>\n",
       "      <td>110 min</td>\n",
       "      <td>Drama, International</td>\n",
       "    </tr>\n",
       "  </tbody>\n",
       "</table>\n",
       "</div>"
      ],
      "text/plain": [
       "  show_id   type                 title      director  \\\n",
       "0      s1  Movie   The Grand Seduction  Don McKellar   \n",
       "1      s2  Movie  Take Care Good Night  Girish Joshi   \n",
       "\n",
       "                                               cast country      date_added  \\\n",
       "0    Brendan Gleeson, Taylor Kitsch, Gordon Pinsent  Canada  March 30, 2021   \n",
       "1  Mahesh Manjrekar, Abhay Mahajan, Sachin Khedekar   India  March 30, 2021   \n",
       "\n",
       "   release_year rating duration             listed_in  \n",
       "0          2014    13+  113 min         Comedy, Drama  \n",
       "1          2018    13+  110 min  Drama, International  "
      ]
     },
     "execution_count": 126,
     "metadata": {},
     "output_type": "execute_result"
    }
   ],
   "source": [
    "df.head(2)"
   ]
  },
  {
   "cell_type": "code",
   "execution_count": 127,
   "id": "f3daa139-87b9-461c-b3e1-ddb2d85edcb9",
   "metadata": {},
   "outputs": [],
   "source": [
    "# top_years = df['release_year'].value_counts().nlargest(10)\n",
    "\n",
    "# sns.barplot(x=top_years.index, y=top_years.values, color='lightgreen')\n",
    "# plt.title(\"Top 10 Years with Most Releases\")\n",
    "# plt.xlabel(\"Year\")\n",
    "# plt.ylabel(\"Number of Releases\")\n",
    "# plt.show()\n"
   ]
  },
  {
   "cell_type": "markdown",
   "id": "7417ff42-cd94-4a12-b09c-c0fa1eb897a6",
   "metadata": {},
   "source": [
    "                                            Q2.Which years saw the highest number of releases?"
   ]
  },
  {
   "cell_type": "code",
   "execution_count": 128,
   "id": "10c8ea85-2e00-40e3-8d80-deaf39e28605",
   "metadata": {},
   "outputs": [],
   "source": [
    "oko=df[\"release_year\"].value_counts().index"
   ]
  },
  {
   "cell_type": "code",
   "execution_count": 129,
   "id": "3e68e80d-3ca8-4dbf-a717-b28e9144ca7a",
   "metadata": {},
   "outputs": [],
   "source": [
    "oyo=df[\"release_year\"].value_counts().values"
   ]
  },
  {
   "cell_type": "code",
   "execution_count": 130,
   "id": "2aa0eb49-b88b-43ad-b6b2-f3c08766a649",
   "metadata": {},
   "outputs": [
    {
     "data": {
      "image/png": "[encoded data removed]",
      "text/plain": [
       "<Figure size 640x480 with 1 Axes>"
      ]
     },
     "metadata": {},
     "output_type": "display_data"
    }
   ],
   "source": [
    "plt.pie(oyo[:10],labels=oko[:10],autopct=\"%1.0f%%\")\n",
    "plt.title(\"Top 10 Years with Most Releases\")\n",
    "plt.xlabel(\"Year\")\n",
    "plt.ylabel(\"Number of Releases\")\n",
    "plt.show()\n"
   ]
  },
  {
   "cell_type": "markdown",
   "id": "72a78696-9fef-4cef-aacb-39c1a742bac8",
   "metadata": {},
   "source": [
    "                                                    #Conclusion:\n",
    "                                   1.As you can see in the above Pie chart the most no. of release happens in the year 2021"
   ]
  },
  {
   "cell_type": "markdown",
   "id": "3890edde-db02-4b8f-8469-266e1ec33c5f",
   "metadata": {},
   "source": [
    "                                             Q3. Are there any trends in the number of releases over the years?"
   ]
  },
  {
   "cell_type": "code",
   "execution_count": 131,
   "id": "cfeede93-2d02-4e6f-a402-87f8d6053925",
   "metadata": {},
   "outputs": [
    {
     "data": {
      "text/html": [
       "<div>\n",
       "<style scoped>\n",
       "    .dataframe tbody tr th:only-of-type {\n",
       "        vertical-align: middle;\n",
       "    }\n",
       "\n",
       "    .dataframe tbody tr th {\n",
       "        vertical-align: top;\n",
       "    }\n",
       "\n",
       "    .dataframe thead th {\n",
       "        text-align: right;\n",
       "    }\n",
       "</style>\n",
       "<table border=\"1\" class=\"dataframe\">\n",
       "  <thead>\n",
       "    <tr style=\"text-align: right;\">\n",
       "      <th></th>\n",
       "      <th>show_id</th>\n",
       "      <th>type</th>\n",
       "      <th>title</th>\n",
       "      <th>director</th>\n",
       "      <th>cast</th>\n",
       "      <th>country</th>\n",
       "      <th>date_added</th>\n",
       "      <th>release_year</th>\n",
       "      <th>rating</th>\n",
       "      <th>duration</th>\n",
       "      <th>listed_in</th>\n",
       "    </tr>\n",
       "  </thead>\n",
       "  <tbody>\n",
       "    <tr>\n",
       "      <th>0</th>\n",
       "      <td>s1</td>\n",
       "      <td>Movie</td>\n",
       "      <td>The Grand Seduction</td>\n",
       "      <td>Don McKellar</td>\n",
       "      <td>Brendan Gleeson, Taylor Kitsch, Gordon Pinsent</td>\n",
       "      <td>Canada</td>\n",
       "      <td>March 30, 2021</td>\n",
       "      <td>2014</td>\n",
       "      <td>13+</td>\n",
       "      <td>113 min</td>\n",
       "      <td>Comedy, Drama</td>\n",
       "    </tr>\n",
       "    <tr>\n",
       "      <th>1</th>\n",
       "      <td>s2</td>\n",
       "      <td>Movie</td>\n",
       "      <td>Take Care Good Night</td>\n",
       "      <td>Girish Joshi</td>\n",
       "      <td>Mahesh Manjrekar, Abhay Mahajan, Sachin Khedekar</td>\n",
       "      <td>India</td>\n",
       "      <td>March 30, 2021</td>\n",
       "      <td>2018</td>\n",
       "      <td>13+</td>\n",
       "      <td>110 min</td>\n",
       "      <td>Drama, International</td>\n",
       "    </tr>\n",
       "  </tbody>\n",
       "</table>\n",
       "</div>"
      ],
      "text/plain": [
       "  show_id   type                 title      director  \\\n",
       "0      s1  Movie   The Grand Seduction  Don McKellar   \n",
       "1      s2  Movie  Take Care Good Night  Girish Joshi   \n",
       "\n",
       "                                               cast country      date_added  \\\n",
       "0    Brendan Gleeson, Taylor Kitsch, Gordon Pinsent  Canada  March 30, 2021   \n",
       "1  Mahesh Manjrekar, Abhay Mahajan, Sachin Khedekar   India  March 30, 2021   \n",
       "\n",
       "   release_year rating duration             listed_in  \n",
       "0          2014    13+  113 min         Comedy, Drama  \n",
       "1          2018    13+  110 min  Drama, International  "
      ]
     },
     "execution_count": 131,
     "metadata": {},
     "output_type": "execute_result"
    }
   ],
   "source": [
    "df.head(2)"
   ]
  },
  {
   "cell_type": "code",
   "execution_count": 132,
   "id": "0d9e3c62-a2a8-470b-a7f4-33643aad1900",
   "metadata": {},
   "outputs": [
    {
     "data": {
      "image/png": "[encoded data removed]",
      "text/plain": [
       "<Figure size 640x480 with 1 Axes>"
      ]
     },
     "metadata": {},
     "output_type": "display_data"
    }
   ],
   "source": [
    "trend_axis=df[\"release_year\"].value_counts().nlargest(10)\n",
    "sns.lineplot(x=trend_axis.index,y=trend_axis.values,color=\"orange\")\n",
    "plt.show()"
   ]
  },
  {
   "cell_type": "markdown",
   "id": "f71e1b3e-56fe-4a37-888f-a6ee7e7db2d7",
   "metadata": {},
   "source": [
    "                                                       #Conclusion:\n",
    "                                                       1.As you can see the trends that i saw here that they have release \n",
    "                                                       more movies and TV shows after 2019 means when COVID starts."
   ]
  },
  {
   "cell_type": "markdown",
   "id": "382d03fe-6a19-4649-9f6b-7a5cf906ffe2",
   "metadata": {},
   "source": [
    "                                              Q4. Which are the top 3 countries producing the most content?"
   ]
  },
  {
   "cell_type": "code",
   "execution_count": 133,
   "id": "6f1c8ee3-f7ee-4afd-a535-0148dd49d340",
   "metadata": {},
   "outputs": [
    {
     "data": {
      "text/html": [
       "<div>\n",
       "<style scoped>\n",
       "    .dataframe tbody tr th:only-of-type {\n",
       "        vertical-align: middle;\n",
       "    }\n",
       "\n",
       "    .dataframe tbody tr th {\n",
       "        vertical-align: top;\n",
       "    }\n",
       "\n",
       "    .dataframe thead th {\n",
       "        text-align: right;\n",
       "    }\n",
       "</style>\n",
       "<table border=\"1\" class=\"dataframe\">\n",
       "  <thead>\n",
       "    <tr style=\"text-align: right;\">\n",
       "      <th></th>\n",
       "      <th>show_id</th>\n",
       "      <th>type</th>\n",
       "      <th>title</th>\n",
       "      <th>director</th>\n",
       "      <th>cast</th>\n",
       "      <th>country</th>\n",
       "      <th>date_added</th>\n",
       "      <th>release_year</th>\n",
       "      <th>rating</th>\n",
       "      <th>duration</th>\n",
       "      <th>listed_in</th>\n",
       "    </tr>\n",
       "  </thead>\n",
       "  <tbody>\n",
       "    <tr>\n",
       "      <th>0</th>\n",
       "      <td>s1</td>\n",
       "      <td>Movie</td>\n",
       "      <td>The Grand Seduction</td>\n",
       "      <td>Don McKellar</td>\n",
       "      <td>Brendan Gleeson, Taylor Kitsch, Gordon Pinsent</td>\n",
       "      <td>Canada</td>\n",
       "      <td>March 30, 2021</td>\n",
       "      <td>2014</td>\n",
       "      <td>13+</td>\n",
       "      <td>113 min</td>\n",
       "      <td>Comedy, Drama</td>\n",
       "    </tr>\n",
       "    <tr>\n",
       "      <th>1</th>\n",
       "      <td>s2</td>\n",
       "      <td>Movie</td>\n",
       "      <td>Take Care Good Night</td>\n",
       "      <td>Girish Joshi</td>\n",
       "      <td>Mahesh Manjrekar, Abhay Mahajan, Sachin Khedekar</td>\n",
       "      <td>India</td>\n",
       "      <td>March 30, 2021</td>\n",
       "      <td>2018</td>\n",
       "      <td>13+</td>\n",
       "      <td>110 min</td>\n",
       "      <td>Drama, International</td>\n",
       "    </tr>\n",
       "    <tr>\n",
       "      <th>2</th>\n",
       "      <td>s3</td>\n",
       "      <td>Movie</td>\n",
       "      <td>Secrets of Deception</td>\n",
       "      <td>Josh Webber</td>\n",
       "      <td>Tom Sizemore, Lorenzo Lamas, Robert LaSardo, R...</td>\n",
       "      <td>United States</td>\n",
       "      <td>March 30, 2021</td>\n",
       "      <td>2017</td>\n",
       "      <td>13+</td>\n",
       "      <td>74 min</td>\n",
       "      <td>Action, Drama, Suspense</td>\n",
       "    </tr>\n",
       "    <tr>\n",
       "      <th>3</th>\n",
       "      <td>s4</td>\n",
       "      <td>Movie</td>\n",
       "      <td>Pink: Staying True</td>\n",
       "      <td>Sonia Anderson</td>\n",
       "      <td>Interviews with: Pink, Adele, Beyoncé, Britney...</td>\n",
       "      <td>United States</td>\n",
       "      <td>March 30, 2021</td>\n",
       "      <td>2014</td>\n",
       "      <td>13+</td>\n",
       "      <td>69 min</td>\n",
       "      <td>Documentary</td>\n",
       "    </tr>\n",
       "    <tr>\n",
       "      <th>4</th>\n",
       "      <td>s5</td>\n",
       "      <td>Movie</td>\n",
       "      <td>Monster Maker</td>\n",
       "      <td>Giles Foster</td>\n",
       "      <td>Harry Dean Stanton, Kieran O'Brien, George Cos...</td>\n",
       "      <td>United Kingdom</td>\n",
       "      <td>March 30, 2021</td>\n",
       "      <td>1989</td>\n",
       "      <td>13+</td>\n",
       "      <td>45 min</td>\n",
       "      <td>Drama, Fantasy</td>\n",
       "    </tr>\n",
       "  </tbody>\n",
       "</table>\n",
       "</div>"
      ],
      "text/plain": [
       "  show_id   type                 title        director  \\\n",
       "0      s1  Movie   The Grand Seduction    Don McKellar   \n",
       "1      s2  Movie  Take Care Good Night    Girish Joshi   \n",
       "2      s3  Movie  Secrets of Deception     Josh Webber   \n",
       "3      s4  Movie    Pink: Staying True  Sonia Anderson   \n",
       "4      s5  Movie         Monster Maker    Giles Foster   \n",
       "\n",
       "                                                cast         country  \\\n",
       "0     Brendan Gleeson, Taylor Kitsch, Gordon Pinsent          Canada   \n",
       "1   Mahesh Manjrekar, Abhay Mahajan, Sachin Khedekar           India   \n",
       "2  Tom Sizemore, Lorenzo Lamas, Robert LaSardo, R...   United States   \n",
       "3  Interviews with: Pink, Adele, Beyoncé, Britney...   United States   \n",
       "4  Harry Dean Stanton, Kieran O'Brien, George Cos...  United Kingdom   \n",
       "\n",
       "       date_added  release_year rating duration                listed_in  \n",
       "0  March 30, 2021          2014    13+  113 min            Comedy, Drama  \n",
       "1  March 30, 2021          2018    13+  110 min     Drama, International  \n",
       "2  March 30, 2021          2017    13+   74 min  Action, Drama, Suspense  \n",
       "3  March 30, 2021          2014    13+   69 min              Documentary  \n",
       "4  March 30, 2021          1989    13+   45 min           Drama, Fantasy  "
      ]
     },
     "execution_count": 133,
     "metadata": {},
     "output_type": "execute_result"
    }
   ],
   "source": [
    "df.head()"
   ]
  },
  {
   "cell_type": "code",
   "execution_count": 134,
   "id": "7ba7a20e-21b8-40b9-a16c-fa06a753210a",
   "metadata": {},
   "outputs": [],
   "source": [
    "top_content_countries=df[\"country\"].value_counts().nlargest(3)"
   ]
  },
  {
   "cell_type": "code",
   "execution_count": 135,
   "id": "58730f11-5bb6-4dcc-86a0-7d92710d7000",
   "metadata": {},
   "outputs": [
    {
     "data": {
      "image/png": "[encoded data removed]",
      "text/plain": [
       "<Figure size 640x480 with 1 Axes>"
      ]
     },
     "metadata": {},
     "output_type": "display_data"
    }
   ],
   "source": [
    "sns.lineplot(x=top_content_countries.index,y=top_content_countries.values,color=\"blue\")\n",
    "plt.xlabel(\"Countries Name\")\n",
    "plt.title(\"Top 3 Countries with producing more content\")\n",
    "plt.ylabel(\"Content_Count\")\n",
    "plt.show()"
   ]
  },
  {
   "cell_type": "markdown",
   "id": "341043cd-d34f-4673-8457-d1c42eb3eae9",
   "metadata": {},
   "source": [
    "                                                       #CONCLUSION\n",
    "                                                       1. The country that has the highest amount of content produced is USA."
   ]
  },
  {
   "cell_type": "markdown",
   "id": "2d532daf-8e2a-4895-b89f-fdc2fbc6eca8",
   "metadata": {},
   "source": [
    "                                                   Q5. How many unique countries are represented in the dataset?"
   ]
  },
  {
   "cell_type": "code",
   "execution_count": 136,
   "id": "69e9a058-75a0-4287-8a32-d209582f58d4",
   "metadata": {},
   "outputs": [
    {
     "name": "stdout",
     "output_type": "stream",
     "text": [
      "The total_number of unique countries are 86\n"
     ]
    }
   ],
   "source": [
    "print(\"The total_number of unique countries are\",df[\"country\"].nunique())"
   ]
  },
  {
   "cell_type": "markdown",
   "id": "3d18544d-3e27-4710-89a5-1ffc96f3550a",
   "metadata": {},
   "source": [
    "                                                      Q6. What are the most common content ratings (like TV-MA, PG, etc.)?"
   ]
  },
  {
   "cell_type": "code",
   "execution_count": 137,
   "id": "52b0c994-0ce3-4334-8031-3549cd637a64",
   "metadata": {},
   "outputs": [],
   "source": [
    "common_rating=df[\"rating\"].value_counts().nlargest(7) "
   ]
  },
  {
   "cell_type": "code",
   "execution_count": 138,
   "id": "49661ca4-ddb7-4849-99ad-56ca926ca7a5",
   "metadata": {},
   "outputs": [
    {
     "data": {
      "text/plain": [
       "<Axes: xlabel='rating'>"
      ]
     },
     "execution_count": 138,
     "metadata": {},
     "output_type": "execute_result"
    },
    {
     "data": {
      "image/png": "[encoded data removed]",
      "text/plain": [
       "<Figure size 640x480 with 1 Axes>"
      ]
     },
     "metadata": {},
     "output_type": "display_data"
    }
   ],
   "source": [
    "sns.barplot(x=common_rating.index,y=common_rating.values,color=\"lightgreen\")"
   ]
  },
  {
   "cell_type": "markdown",
   "id": "c4d59653-5bd7-4951-a15a-60358738f20e",
   "metadata": {},
   "source": [
    "                                                      #Conclusion:->\n",
    "                                                      1. The most common rating or we can say that the rating that was given most of the \n",
    "                                                          movies or TV shows is 13+."
   ]
  },
  {
   "cell_type": "markdown",
   "id": "72ab4a59-3f31-422f-a2ee-81a8848c5430",
   "metadata": {},
   "source": [
    "                                                         Q7.Which are the top 5 most common genres/categories?"
   ]
  },
  {
   "cell_type": "code",
   "execution_count": 139,
   "id": "2d25b33f-c611-42d3-8ebb-22abb66124df",
   "metadata": {},
   "outputs": [
    {
     "data": {
      "text/html": [
       "<div>\n",
       "<style scoped>\n",
       "    .dataframe tbody tr th:only-of-type {\n",
       "        vertical-align: middle;\n",
       "    }\n",
       "\n",
       "    .dataframe tbody tr th {\n",
       "        vertical-align: top;\n",
       "    }\n",
       "\n",
       "    .dataframe thead th {\n",
       "        text-align: right;\n",
       "    }\n",
       "</style>\n",
       "<table border=\"1\" class=\"dataframe\">\n",
       "  <thead>\n",
       "    <tr style=\"text-align: right;\">\n",
       "      <th></th>\n",
       "      <th>show_id</th>\n",
       "      <th>type</th>\n",
       "      <th>title</th>\n",
       "      <th>director</th>\n",
       "      <th>cast</th>\n",
       "      <th>country</th>\n",
       "      <th>date_added</th>\n",
       "      <th>release_year</th>\n",
       "      <th>rating</th>\n",
       "      <th>duration</th>\n",
       "      <th>listed_in</th>\n",
       "    </tr>\n",
       "  </thead>\n",
       "  <tbody>\n",
       "    <tr>\n",
       "      <th>0</th>\n",
       "      <td>s1</td>\n",
       "      <td>Movie</td>\n",
       "      <td>The Grand Seduction</td>\n",
       "      <td>Don McKellar</td>\n",
       "      <td>Brendan Gleeson, Taylor Kitsch, Gordon Pinsent</td>\n",
       "      <td>Canada</td>\n",
       "      <td>March 30, 2021</td>\n",
       "      <td>2014</td>\n",
       "      <td>13+</td>\n",
       "      <td>113 min</td>\n",
       "      <td>Comedy, Drama</td>\n",
       "    </tr>\n",
       "    <tr>\n",
       "      <th>1</th>\n",
       "      <td>s2</td>\n",
       "      <td>Movie</td>\n",
       "      <td>Take Care Good Night</td>\n",
       "      <td>Girish Joshi</td>\n",
       "      <td>Mahesh Manjrekar, Abhay Mahajan, Sachin Khedekar</td>\n",
       "      <td>India</td>\n",
       "      <td>March 30, 2021</td>\n",
       "      <td>2018</td>\n",
       "      <td>13+</td>\n",
       "      <td>110 min</td>\n",
       "      <td>Drama, International</td>\n",
       "    </tr>\n",
       "  </tbody>\n",
       "</table>\n",
       "</div>"
      ],
      "text/plain": [
       "  show_id   type                 title      director  \\\n",
       "0      s1  Movie   The Grand Seduction  Don McKellar   \n",
       "1      s2  Movie  Take Care Good Night  Girish Joshi   \n",
       "\n",
       "                                               cast country      date_added  \\\n",
       "0    Brendan Gleeson, Taylor Kitsch, Gordon Pinsent  Canada  March 30, 2021   \n",
       "1  Mahesh Manjrekar, Abhay Mahajan, Sachin Khedekar   India  March 30, 2021   \n",
       "\n",
       "   release_year rating duration             listed_in  \n",
       "0          2014    13+  113 min         Comedy, Drama  \n",
       "1          2018    13+  110 min  Drama, International  "
      ]
     },
     "execution_count": 139,
     "metadata": {},
     "output_type": "execute_result"
    }
   ],
   "source": [
    "df.head(2)"
   ]
  },
  {
   "cell_type": "code",
   "execution_count": 140,
   "id": "06aa1593-4461-48e5-9902-883cc0c17772",
   "metadata": {},
   "outputs": [],
   "source": [
    "Genre=df[\"listed_in\"].value_counts().nlargest(5)"
   ]
  },
  {
   "cell_type": "code",
   "execution_count": 141,
   "id": "8dc118a6-d9ba-47c2-8a45-e7a6d17d7d42",
   "metadata": {},
   "outputs": [
    {
     "data": {
      "image/png": "[encoded data removed]",
      "text/plain": [
       "<Figure size 640x480 with 1 Axes>"
      ]
     },
     "metadata": {},
     "output_type": "display_data"
    }
   ],
   "source": [
    "sns.lineplot(x=Genre.index,y=Genre.values,color=\"turquoise\")\n",
    "plt.title(\"The top 5 most common genres/categories\")\n",
    "plt.xlabel(\"title name\")\n",
    "plt.ylabel(\"count of values\")\n",
    "plt.show()           "
   ]
  },
  {
   "cell_type": "markdown",
   "id": "75a9feb4-ca8e-4b87-a751-860be6c5dafa",
   "metadata": {},
   "source": [
    "                                                 #Conclusion\n",
    "                                                 1. Drame has the highest count of genre or Categories."
   ]
  },
  {
   "cell_type": "markdown",
   "id": "67e32c8f-ba6a-4fd4-b25c-a1cb87dbad9f",
   "metadata": {},
   "source": [
    "                                                Q8.Which directors have the most titles?"
   ]
  },
  {
   "cell_type": "code",
   "execution_count": 142,
   "id": "b0f096a4-d329-4d64-8e8b-5d48094c3c0f",
   "metadata": {},
   "outputs": [],
   "source": [
    "director=df[\"director\"].value_counts().nlargest(3)"
   ]
  },
  {
   "cell_type": "code",
   "execution_count": 143,
   "id": "5770ca2c-5b6d-49b1-be92-73512aefe9ed",
   "metadata": {},
   "outputs": [
    {
     "data": {
      "text/plain": [
       "<Axes: xlabel='director'>"
      ]
     },
     "execution_count": 143,
     "metadata": {},
     "output_type": "execute_result"
    },
    {
     "data": {
      "image/png": "[encoded data removed]",
      "text/plain": [
       "<Figure size 640x480 with 1 Axes>"
      ]
     },
     "metadata": {},
     "output_type": "display_data"
    }
   ],
   "source": [
    "sns.barplot(x=director.index,y=director.values,color=\"red\")"
   ]
  },
  {
   "cell_type": "markdown",
   "id": "fe29ac2a-04e2-4e73-bc88-afe6664fbe6e",
   "metadata": {},
   "source": [
    "                                                #Conclusion:->\n",
    "                                               1. Mark knight have the most titles"
   ]
  },
  {
   "cell_type": "markdown",
   "id": "2b392c58-bf85-44a2-93c9-07ab9a567c2b",
   "metadata": {},
   "source": [
    "\n",
    "                                              Q9. Are there directors with only one title?"
   ]
  },
  {
   "cell_type": "code",
   "execution_count": 144,
   "id": "26a73282-022d-4e17-8868-ab22c59e123f",
   "metadata": {},
   "outputs": [],
   "source": [
    "director=director.value_counts()"
   ]
  },
  {
   "cell_type": "code",
   "execution_count": 145,
   "id": "4c8c75cb-cee6-48c9-8fcc-33cc196700a4",
   "metadata": {},
   "outputs": [],
   "source": [
    "drr=director[director==1]"
   ]
  },
  {
   "cell_type": "code",
   "execution_count": 146,
   "id": "44e1f2e0-ef83-46b0-942d-b7c662d5eeef",
   "metadata": {},
   "outputs": [
    {
     "name": "stdout",
     "output_type": "stream",
     "text": [
      "Number of directors with only one title: 3\n",
      "\n",
      "Some of them are:\n",
      " count\n",
      "2196    1\n",
      "61      1\n",
      "37      1\n",
      "Name: count, dtype: int64\n"
     ]
    }
   ],
   "source": [
    "print(\"Number of directors with only one title:\", len(drr))\n",
    "print(\"\\nSome of them are:\\n\", drr.head(10))"
   ]
  },
  {
   "cell_type": "markdown",
   "id": "bc6da7ba-9184-47cd-83a2-2a679223e950",
   "metadata": {},
   "source": [
    "                                                    ###    BIVARIATE ANALYSIS"
   ]
  },
  {
   "cell_type": "markdown",
   "id": "f8a18d5d-b542-4724-af04-05e51d3b2e93",
   "metadata": {},
   "source": [
    "                                                   Q1. Do certain countries produce more TV Shows or Movies?"
   ]
  },
  {
   "cell_type": "code",
   "execution_count": 147,
   "id": "722e0625-ac6f-4c63-ac6a-ca31f15deff4",
   "metadata": {},
   "outputs": [
    {
     "data": {
      "text/html": [
       "<div>\n",
       "<style scoped>\n",
       "    .dataframe tbody tr th:only-of-type {\n",
       "        vertical-align: middle;\n",
       "    }\n",
       "\n",
       "    .dataframe tbody tr th {\n",
       "        vertical-align: top;\n",
       "    }\n",
       "\n",
       "    .dataframe thead th {\n",
       "        text-align: right;\n",
       "    }\n",
       "</style>\n",
       "<table border=\"1\" class=\"dataframe\">\n",
       "  <thead>\n",
       "    <tr style=\"text-align: right;\">\n",
       "      <th></th>\n",
       "      <th>show_id</th>\n",
       "      <th>type</th>\n",
       "      <th>title</th>\n",
       "      <th>director</th>\n",
       "      <th>cast</th>\n",
       "      <th>country</th>\n",
       "      <th>date_added</th>\n",
       "      <th>release_year</th>\n",
       "      <th>rating</th>\n",
       "      <th>duration</th>\n",
       "      <th>listed_in</th>\n",
       "    </tr>\n",
       "  </thead>\n",
       "  <tbody>\n",
       "    <tr>\n",
       "      <th>0</th>\n",
       "      <td>s1</td>\n",
       "      <td>Movie</td>\n",
       "      <td>The Grand Seduction</td>\n",
       "      <td>Don McKellar</td>\n",
       "      <td>Brendan Gleeson, Taylor Kitsch, Gordon Pinsent</td>\n",
       "      <td>Canada</td>\n",
       "      <td>March 30, 2021</td>\n",
       "      <td>2014</td>\n",
       "      <td>13+</td>\n",
       "      <td>113 min</td>\n",
       "      <td>Comedy, Drama</td>\n",
       "    </tr>\n",
       "    <tr>\n",
       "      <th>1</th>\n",
       "      <td>s2</td>\n",
       "      <td>Movie</td>\n",
       "      <td>Take Care Good Night</td>\n",
       "      <td>Girish Joshi</td>\n",
       "      <td>Mahesh Manjrekar, Abhay Mahajan, Sachin Khedekar</td>\n",
       "      <td>India</td>\n",
       "      <td>March 30, 2021</td>\n",
       "      <td>2018</td>\n",
       "      <td>13+</td>\n",
       "      <td>110 min</td>\n",
       "      <td>Drama, International</td>\n",
       "    </tr>\n",
       "  </tbody>\n",
       "</table>\n",
       "</div>"
      ],
      "text/plain": [
       "  show_id   type                 title      director  \\\n",
       "0      s1  Movie   The Grand Seduction  Don McKellar   \n",
       "1      s2  Movie  Take Care Good Night  Girish Joshi   \n",
       "\n",
       "                                               cast country      date_added  \\\n",
       "0    Brendan Gleeson, Taylor Kitsch, Gordon Pinsent  Canada  March 30, 2021   \n",
       "1  Mahesh Manjrekar, Abhay Mahajan, Sachin Khedekar   India  March 30, 2021   \n",
       "\n",
       "   release_year rating duration             listed_in  \n",
       "0          2014    13+  113 min         Comedy, Drama  \n",
       "1          2018    13+  110 min  Drama, International  "
      ]
     },
     "execution_count": 147,
     "metadata": {},
     "output_type": "execute_result"
    }
   ],
   "source": [
    "df.head(2)"
   ]
  },
  {
   "cell_type": "code",
   "execution_count": 148,
   "id": "80cc229f-3676-45da-9d83-f2d35b3ce3f8",
   "metadata": {},
   "outputs": [
    {
     "data": {
      "image/png": "[encoded data removed]",
      "text/plain": [
       "<Figure size 1200x600 with 1 Axes>"
      ]
     },
     "metadata": {},
     "output_type": "display_data"
    }
   ],
   "source": [
    "# Step 1: Group by country and type (TV Show / Movie)\n",
    "type_by_country = df.groupby(['country', 'type']).size().unstack().fillna(0)\n",
    "\n",
    "# Step 2: Sort by total content\n",
    "type_by_country['Total'] = type_by_country.sum(axis=1)\n",
    "top_countries = type_by_country.sort_values(by='Total', ascending=False).head(10)\n",
    "\n",
    "# Step 3: Plot the top countries\n",
    "top_countries[['Movie', 'TV Show']].plot(kind='bar', stacked=False, figsize=(12,6), color=['skyblue', 'lightcoral'])\n",
    "\n",
    "plt.title('Top Countries by Number of Movies and TV Shows')\n",
    "plt.ylabel('Number of Titles')\n",
    "plt.xlabel('Country')\n",
    "plt.xticks(rotation=45)\n",
    "plt.legend(title='Type')\n",
    "plt.tight_layout()\n",
    "plt.show()\n"
   ]
  },
  {
   "cell_type": "markdown",
   "id": "daf3b4bf-95e1-4661-b68e-c8c90e925d70",
   "metadata": {},
   "source": [
    "                                                  #Conclusion:\n",
    "                                                  India may lean heavily toward Movies, US might balance both"
   ]
  },
  {
   "cell_type": "code",
   "execution_count": 149,
   "id": "056bfb8d-b33d-4ad1-af83-3459937f50ed",
   "metadata": {},
   "outputs": [
    {
     "data": {
      "text/html": [
       "<div>\n",
       "<style scoped>\n",
       "    .dataframe tbody tr th:only-of-type {\n",
       "        vertical-align: middle;\n",
       "    }\n",
       "\n",
       "    .dataframe tbody tr th {\n",
       "        vertical-align: top;\n",
       "    }\n",
       "\n",
       "    .dataframe thead th {\n",
       "        text-align: right;\n",
       "    }\n",
       "</style>\n",
       "<table border=\"1\" class=\"dataframe\">\n",
       "  <thead>\n",
       "    <tr style=\"text-align: right;\">\n",
       "      <th></th>\n",
       "      <th>show_id</th>\n",
       "      <th>type</th>\n",
       "      <th>title</th>\n",
       "      <th>director</th>\n",
       "      <th>cast</th>\n",
       "      <th>country</th>\n",
       "      <th>date_added</th>\n",
       "      <th>release_year</th>\n",
       "      <th>rating</th>\n",
       "      <th>duration</th>\n",
       "      <th>listed_in</th>\n",
       "    </tr>\n",
       "  </thead>\n",
       "  <tbody>\n",
       "    <tr>\n",
       "      <th>0</th>\n",
       "      <td>s1</td>\n",
       "      <td>Movie</td>\n",
       "      <td>The Grand Seduction</td>\n",
       "      <td>Don McKellar</td>\n",
       "      <td>Brendan Gleeson, Taylor Kitsch, Gordon Pinsent</td>\n",
       "      <td>Canada</td>\n",
       "      <td>March 30, 2021</td>\n",
       "      <td>2014</td>\n",
       "      <td>13+</td>\n",
       "      <td>113 min</td>\n",
       "      <td>Comedy, Drama</td>\n",
       "    </tr>\n",
       "    <tr>\n",
       "      <th>1</th>\n",
       "      <td>s2</td>\n",
       "      <td>Movie</td>\n",
       "      <td>Take Care Good Night</td>\n",
       "      <td>Girish Joshi</td>\n",
       "      <td>Mahesh Manjrekar, Abhay Mahajan, Sachin Khedekar</td>\n",
       "      <td>India</td>\n",
       "      <td>March 30, 2021</td>\n",
       "      <td>2018</td>\n",
       "      <td>13+</td>\n",
       "      <td>110 min</td>\n",
       "      <td>Drama, International</td>\n",
       "    </tr>\n",
       "  </tbody>\n",
       "</table>\n",
       "</div>"
      ],
      "text/plain": [
       "  show_id   type                 title      director  \\\n",
       "0      s1  Movie   The Grand Seduction  Don McKellar   \n",
       "1      s2  Movie  Take Care Good Night  Girish Joshi   \n",
       "\n",
       "                                               cast country      date_added  \\\n",
       "0    Brendan Gleeson, Taylor Kitsch, Gordon Pinsent  Canada  March 30, 2021   \n",
       "1  Mahesh Manjrekar, Abhay Mahajan, Sachin Khedekar   India  March 30, 2021   \n",
       "\n",
       "   release_year rating duration             listed_in  \n",
       "0          2014    13+  113 min         Comedy, Drama  \n",
       "1          2018    13+  110 min  Drama, International  "
      ]
     },
     "execution_count": 149,
     "metadata": {},
     "output_type": "execute_result"
    }
   ],
   "source": [
    "df.head(2)"
   ]
  },
  {
   "cell_type": "markdown",
   "id": "b5c9200e-17a3-4ac5-8ff5-78b88ee47a27",
   "metadata": {},
   "source": [
    "                                                      Q2. Do certain countries dominate specific genres?/\n"
   ]
  },
  {
   "cell_type": "code",
   "execution_count": 150,
   "id": "2e6bfd9a-ef4a-4393-9514-26d5cdb14380",
   "metadata": {},
   "outputs": [],
   "source": [
    "data=df.head(5)"
   ]
  },
  {
   "cell_type": "code",
   "execution_count": 151,
   "id": "37fc1d09-eb3c-4057-865d-5ac053ab7cd1",
   "metadata": {},
   "outputs": [
    {
     "data": {
      "text/html": [
       "<div>\n",
       "<style scoped>\n",
       "    .dataframe tbody tr th:only-of-type {\n",
       "        vertical-align: middle;\n",
       "    }\n",
       "\n",
       "    .dataframe tbody tr th {\n",
       "        vertical-align: top;\n",
       "    }\n",
       "\n",
       "    .dataframe thead th {\n",
       "        text-align: right;\n",
       "    }\n",
       "</style>\n",
       "<table border=\"1\" class=\"dataframe\">\n",
       "  <thead>\n",
       "    <tr style=\"text-align: right;\">\n",
       "      <th></th>\n",
       "      <th>show_id</th>\n",
       "      <th>type</th>\n",
       "      <th>title</th>\n",
       "      <th>director</th>\n",
       "      <th>cast</th>\n",
       "      <th>country</th>\n",
       "      <th>date_added</th>\n",
       "      <th>release_year</th>\n",
       "      <th>rating</th>\n",
       "      <th>duration</th>\n",
       "      <th>listed_in</th>\n",
       "    </tr>\n",
       "  </thead>\n",
       "  <tbody>\n",
       "    <tr>\n",
       "      <th>0</th>\n",
       "      <td>s1</td>\n",
       "      <td>Movie</td>\n",
       "      <td>The Grand Seduction</td>\n",
       "      <td>Don McKellar</td>\n",
       "      <td>Brendan Gleeson, Taylor Kitsch, Gordon Pinsent</td>\n",
       "      <td>Canada</td>\n",
       "      <td>March 30, 2021</td>\n",
       "      <td>2014</td>\n",
       "      <td>13+</td>\n",
       "      <td>113 min</td>\n",
       "      <td>Comedy, Drama</td>\n",
       "    </tr>\n",
       "    <tr>\n",
       "      <th>1</th>\n",
       "      <td>s2</td>\n",
       "      <td>Movie</td>\n",
       "      <td>Take Care Good Night</td>\n",
       "      <td>Girish Joshi</td>\n",
       "      <td>Mahesh Manjrekar, Abhay Mahajan, Sachin Khedekar</td>\n",
       "      <td>India</td>\n",
       "      <td>March 30, 2021</td>\n",
       "      <td>2018</td>\n",
       "      <td>13+</td>\n",
       "      <td>110 min</td>\n",
       "      <td>Drama, International</td>\n",
       "    </tr>\n",
       "    <tr>\n",
       "      <th>2</th>\n",
       "      <td>s3</td>\n",
       "      <td>Movie</td>\n",
       "      <td>Secrets of Deception</td>\n",
       "      <td>Josh Webber</td>\n",
       "      <td>Tom Sizemore, Lorenzo Lamas, Robert LaSardo, R...</td>\n",
       "      <td>United States</td>\n",
       "      <td>March 30, 2021</td>\n",
       "      <td>2017</td>\n",
       "      <td>13+</td>\n",
       "      <td>74 min</td>\n",
       "      <td>Action, Drama, Suspense</td>\n",
       "    </tr>\n",
       "    <tr>\n",
       "      <th>3</th>\n",
       "      <td>s4</td>\n",
       "      <td>Movie</td>\n",
       "      <td>Pink: Staying True</td>\n",
       "      <td>Sonia Anderson</td>\n",
       "      <td>Interviews with: Pink, Adele, Beyoncé, Britney...</td>\n",
       "      <td>United States</td>\n",
       "      <td>March 30, 2021</td>\n",
       "      <td>2014</td>\n",
       "      <td>13+</td>\n",
       "      <td>69 min</td>\n",
       "      <td>Documentary</td>\n",
       "    </tr>\n",
       "    <tr>\n",
       "      <th>4</th>\n",
       "      <td>s5</td>\n",
       "      <td>Movie</td>\n",
       "      <td>Monster Maker</td>\n",
       "      <td>Giles Foster</td>\n",
       "      <td>Harry Dean Stanton, Kieran O'Brien, George Cos...</td>\n",
       "      <td>United Kingdom</td>\n",
       "      <td>March 30, 2021</td>\n",
       "      <td>1989</td>\n",
       "      <td>13+</td>\n",
       "      <td>45 min</td>\n",
       "      <td>Drama, Fantasy</td>\n",
       "    </tr>\n",
       "  </tbody>\n",
       "</table>\n",
       "</div>"
      ],
      "text/plain": [
       "  show_id   type                 title        director  \\\n",
       "0      s1  Movie   The Grand Seduction    Don McKellar   \n",
       "1      s2  Movie  Take Care Good Night    Girish Joshi   \n",
       "2      s3  Movie  Secrets of Deception     Josh Webber   \n",
       "3      s4  Movie    Pink: Staying True  Sonia Anderson   \n",
       "4      s5  Movie         Monster Maker    Giles Foster   \n",
       "\n",
       "                                                cast         country  \\\n",
       "0     Brendan Gleeson, Taylor Kitsch, Gordon Pinsent          Canada   \n",
       "1   Mahesh Manjrekar, Abhay Mahajan, Sachin Khedekar           India   \n",
       "2  Tom Sizemore, Lorenzo Lamas, Robert LaSardo, R...   United States   \n",
       "3  Interviews with: Pink, Adele, Beyoncé, Britney...   United States   \n",
       "4  Harry Dean Stanton, Kieran O'Brien, George Cos...  United Kingdom   \n",
       "\n",
       "       date_added  release_year rating duration                listed_in  \n",
       "0  March 30, 2021          2014    13+  113 min            Comedy, Drama  \n",
       "1  March 30, 2021          2018    13+  110 min     Drama, International  \n",
       "2  March 30, 2021          2017    13+   74 min  Action, Drama, Suspense  \n",
       "3  March 30, 2021          2014    13+   69 min              Documentary  \n",
       "4  March 30, 2021          1989    13+   45 min           Drama, Fantasy  "
      ]
     },
     "execution_count": 151,
     "metadata": {},
     "output_type": "execute_result"
    }
   ],
   "source": [
    "data"
   ]
  },
  {
   "cell_type": "code",
   "execution_count": 152,
   "id": "6e5ba8c6-6d5a-4b5b-b034-0fe55c1b64a0",
   "metadata": {},
   "outputs": [
    {
     "data": {
      "image/png": "[encoded data removed]",
      "text/plain": [
       "<Figure size 1200x600 with 1 Axes>"
      ]
     },
     "metadata": {},
     "output_type": "display_data"
    }
   ],
   "source": [
    "# Split multiple genres and explode the column\n",
    "df_exploded = df.dropna(subset=['country', 'listed_in']).copy()\n",
    "df_exploded['genre'] = df_exploded['listed_in'].str.split(', ')\n",
    "df_exploded = df_exploded.explode('genre')\n",
    "\n",
    "# Group by country and genre\n",
    "genre_by_country = df_exploded.groupby(['country', 'genre']).size().reset_index(name='count')\n",
    "\n",
    "# Get top 10 combinations\n",
    "top_genre_by_country = genre_by_country.sort_values(by='count', ascending=False).head(10)\n",
    "\n",
    "# Plot\n",
    "import seaborn as sns\n",
    "import matplotlib.pyplot as plt\n",
    "\n",
    "plt.figure(figsize=(12,6))\n",
    "sns.barplot(data=top_genre_by_country, x='country', y='count', hue='genre', palette='Paired')\n",
    "plt.title(\"Top Genre Dominance by Country\")\n",
    "plt.xticks(rotation=45)\n",
    "plt.tight_layout()\n",
    "plt.show()\n"
   ]
  },
  {
   "cell_type": "markdown",
   "id": "58c90e4a-d21d-46af-89ee-7a8c9c81ec06",
   "metadata": {},
   "source": [
    "                                                #Conclusion:->\n",
    "                                               1. United states has the highest dominance in the Drama genre."
   ]
  },
  {
   "cell_type": "markdown",
   "id": "fd078662-be9f-4dc1-b33a-bf68d2482fd9",
   "metadata": {},
   "source": [
    "                                               Q3. Release Year vs Rating"
   ]
  },
  {
   "cell_type": "code",
   "execution_count": 153,
   "id": "20409a41-2767-440e-be38-55c2376d76af",
   "metadata": {},
   "outputs": [
    {
     "data": {
      "text/html": [
       "<div>\n",
       "<style scoped>\n",
       "    .dataframe tbody tr th:only-of-type {\n",
       "        vertical-align: middle;\n",
       "    }\n",
       "\n",
       "    .dataframe tbody tr th {\n",
       "        vertical-align: top;\n",
       "    }\n",
       "\n",
       "    .dataframe thead th {\n",
       "        text-align: right;\n",
       "    }\n",
       "</style>\n",
       "<table border=\"1\" class=\"dataframe\">\n",
       "  <thead>\n",
       "    <tr style=\"text-align: right;\">\n",
       "      <th></th>\n",
       "      <th>show_id</th>\n",
       "      <th>type</th>\n",
       "      <th>title</th>\n",
       "      <th>director</th>\n",
       "      <th>cast</th>\n",
       "      <th>country</th>\n",
       "      <th>date_added</th>\n",
       "      <th>release_year</th>\n",
       "      <th>rating</th>\n",
       "      <th>duration</th>\n",
       "      <th>listed_in</th>\n",
       "    </tr>\n",
       "  </thead>\n",
       "  <tbody>\n",
       "    <tr>\n",
       "      <th>0</th>\n",
       "      <td>s1</td>\n",
       "      <td>Movie</td>\n",
       "      <td>The Grand Seduction</td>\n",
       "      <td>Don McKellar</td>\n",
       "      <td>Brendan Gleeson, Taylor Kitsch, Gordon Pinsent</td>\n",
       "      <td>Canada</td>\n",
       "      <td>March 30, 2021</td>\n",
       "      <td>2014</td>\n",
       "      <td>13+</td>\n",
       "      <td>113 min</td>\n",
       "      <td>Comedy, Drama</td>\n",
       "    </tr>\n",
       "    <tr>\n",
       "      <th>1</th>\n",
       "      <td>s2</td>\n",
       "      <td>Movie</td>\n",
       "      <td>Take Care Good Night</td>\n",
       "      <td>Girish Joshi</td>\n",
       "      <td>Mahesh Manjrekar, Abhay Mahajan, Sachin Khedekar</td>\n",
       "      <td>India</td>\n",
       "      <td>March 30, 2021</td>\n",
       "      <td>2018</td>\n",
       "      <td>13+</td>\n",
       "      <td>110 min</td>\n",
       "      <td>Drama, International</td>\n",
       "    </tr>\n",
       "    <tr>\n",
       "      <th>2</th>\n",
       "      <td>s3</td>\n",
       "      <td>Movie</td>\n",
       "      <td>Secrets of Deception</td>\n",
       "      <td>Josh Webber</td>\n",
       "      <td>Tom Sizemore, Lorenzo Lamas, Robert LaSardo, R...</td>\n",
       "      <td>United States</td>\n",
       "      <td>March 30, 2021</td>\n",
       "      <td>2017</td>\n",
       "      <td>13+</td>\n",
       "      <td>74 min</td>\n",
       "      <td>Action, Drama, Suspense</td>\n",
       "    </tr>\n",
       "    <tr>\n",
       "      <th>3</th>\n",
       "      <td>s4</td>\n",
       "      <td>Movie</td>\n",
       "      <td>Pink: Staying True</td>\n",
       "      <td>Sonia Anderson</td>\n",
       "      <td>Interviews with: Pink, Adele, Beyoncé, Britney...</td>\n",
       "      <td>United States</td>\n",
       "      <td>March 30, 2021</td>\n",
       "      <td>2014</td>\n",
       "      <td>13+</td>\n",
       "      <td>69 min</td>\n",
       "      <td>Documentary</td>\n",
       "    </tr>\n",
       "    <tr>\n",
       "      <th>4</th>\n",
       "      <td>s5</td>\n",
       "      <td>Movie</td>\n",
       "      <td>Monster Maker</td>\n",
       "      <td>Giles Foster</td>\n",
       "      <td>Harry Dean Stanton, Kieran O'Brien, George Cos...</td>\n",
       "      <td>United Kingdom</td>\n",
       "      <td>March 30, 2021</td>\n",
       "      <td>1989</td>\n",
       "      <td>13+</td>\n",
       "      <td>45 min</td>\n",
       "      <td>Drama, Fantasy</td>\n",
       "    </tr>\n",
       "  </tbody>\n",
       "</table>\n",
       "</div>"
      ],
      "text/plain": [
       "  show_id   type                 title        director  \\\n",
       "0      s1  Movie   The Grand Seduction    Don McKellar   \n",
       "1      s2  Movie  Take Care Good Night    Girish Joshi   \n",
       "2      s3  Movie  Secrets of Deception     Josh Webber   \n",
       "3      s4  Movie    Pink: Staying True  Sonia Anderson   \n",
       "4      s5  Movie         Monster Maker    Giles Foster   \n",
       "\n",
       "                                                cast         country  \\\n",
       "0     Brendan Gleeson, Taylor Kitsch, Gordon Pinsent          Canada   \n",
       "1   Mahesh Manjrekar, Abhay Mahajan, Sachin Khedekar           India   \n",
       "2  Tom Sizemore, Lorenzo Lamas, Robert LaSardo, R...   United States   \n",
       "3  Interviews with: Pink, Adele, Beyoncé, Britney...   United States   \n",
       "4  Harry Dean Stanton, Kieran O'Brien, George Cos...  United Kingdom   \n",
       "\n",
       "       date_added  release_year rating duration                listed_in  \n",
       "0  March 30, 2021          2014    13+  113 min            Comedy, Drama  \n",
       "1  March 30, 2021          2018    13+  110 min     Drama, International  \n",
       "2  March 30, 2021          2017    13+   74 min  Action, Drama, Suspense  \n",
       "3  March 30, 2021          2014    13+   69 min              Documentary  \n",
       "4  March 30, 2021          1989    13+   45 min           Drama, Fantasy  "
      ]
     },
     "execution_count": 153,
     "metadata": {},
     "output_type": "execute_result"
    }
   ],
   "source": [
    "df.head()"
   ]
  },
  {
   "cell_type": "code",
   "execution_count": 154,
   "id": "5935ee89-3142-419c-a9e5-7e26337bea33",
   "metadata": {},
   "outputs": [
    {
     "data": {
      "text/plain": [
       "<seaborn.axisgrid.JointGrid at 0x21359ed5b50>"
      ]
     },
     "execution_count": 154,
     "metadata": {},
     "output_type": "execute_result"
    },
    {
     "data": {
      "image/png": "[encoded data removed]",
      "text/plain": [
       "<Figure size 600x600 with 3 Axes>"
      ]
     },
     "metadata": {},
     "output_type": "display_data"
    }
   ],
   "source": [
    "sns.jointplot(x=\"release_year\", y=\"rating\", data=df)"
   ]
  },
  {
   "cell_type": "code",
   "execution_count": 155,
   "id": "2ceaa8aa-195b-4ac7-8adf-8a076e21e2b5",
   "metadata": {},
   "outputs": [
    {
     "name": "stdout",
     "output_type": "stream",
     "text": [
      "<class 'pandas.core.frame.DataFrame'>\n",
      "RangeIndex: 9668 entries, 0 to 9667\n",
      "Data columns (total 11 columns):\n",
      " #   Column        Non-Null Count  Dtype \n",
      "---  ------        --------------  ----- \n",
      " 0   show_id       9668 non-null   object\n",
      " 1   type          9668 non-null   object\n",
      " 2   title         9668 non-null   object\n",
      " 3   director      9668 non-null   object\n",
      " 4   cast          9668 non-null   object\n",
      " 5   country       9668 non-null   object\n",
      " 6   date_added    9668 non-null   object\n",
      " 7   release_year  9668 non-null   int64 \n",
      " 8   rating        9668 non-null   object\n",
      " 9   duration      9668 non-null   object\n",
      " 10  listed_in     9668 non-null   object\n",
      "dtypes: int64(1), object(10)\n",
      "memory usage: 831.0+ KB\n"
     ]
    }
   ],
   "source": [
    "df.info()"
   ]
  },
  {
   "cell_type": "code",
   "execution_count": 156,
   "id": "653f2d96-5368-40f6-ae67-05f17be2a975",
   "metadata": {},
   "outputs": [
    {
     "data": {
      "text/html": [
       "<div>\n",
       "<style scoped>\n",
       "    .dataframe tbody tr th:only-of-type {\n",
       "        vertical-align: middle;\n",
       "    }\n",
       "\n",
       "    .dataframe tbody tr th {\n",
       "        vertical-align: top;\n",
       "    }\n",
       "\n",
       "    .dataframe thead th {\n",
       "        text-align: right;\n",
       "    }\n",
       "</style>\n",
       "<table border=\"1\" class=\"dataframe\">\n",
       "  <thead>\n",
       "    <tr style=\"text-align: right;\">\n",
       "      <th></th>\n",
       "      <th>show_id</th>\n",
       "      <th>type</th>\n",
       "      <th>title</th>\n",
       "      <th>director</th>\n",
       "      <th>cast</th>\n",
       "      <th>country</th>\n",
       "      <th>date_added</th>\n",
       "      <th>release_year</th>\n",
       "      <th>rating</th>\n",
       "      <th>duration</th>\n",
       "      <th>listed_in</th>\n",
       "    </tr>\n",
       "  </thead>\n",
       "  <tbody>\n",
       "    <tr>\n",
       "      <th>0</th>\n",
       "      <td>s1</td>\n",
       "      <td>Movie</td>\n",
       "      <td>The Grand Seduction</td>\n",
       "      <td>Don McKellar</td>\n",
       "      <td>Brendan Gleeson, Taylor Kitsch, Gordon Pinsent</td>\n",
       "      <td>Canada</td>\n",
       "      <td>March 30, 2021</td>\n",
       "      <td>2014</td>\n",
       "      <td>13+</td>\n",
       "      <td>113 min</td>\n",
       "      <td>Comedy, Drama</td>\n",
       "    </tr>\n",
       "    <tr>\n",
       "      <th>1</th>\n",
       "      <td>s2</td>\n",
       "      <td>Movie</td>\n",
       "      <td>Take Care Good Night</td>\n",
       "      <td>Girish Joshi</td>\n",
       "      <td>Mahesh Manjrekar, Abhay Mahajan, Sachin Khedekar</td>\n",
       "      <td>India</td>\n",
       "      <td>March 30, 2021</td>\n",
       "      <td>2018</td>\n",
       "      <td>13+</td>\n",
       "      <td>110 min</td>\n",
       "      <td>Drama, International</td>\n",
       "    </tr>\n",
       "  </tbody>\n",
       "</table>\n",
       "</div>"
      ],
      "text/plain": [
       "  show_id   type                 title      director  \\\n",
       "0      s1  Movie   The Grand Seduction  Don McKellar   \n",
       "1      s2  Movie  Take Care Good Night  Girish Joshi   \n",
       "\n",
       "                                               cast country      date_added  \\\n",
       "0    Brendan Gleeson, Taylor Kitsch, Gordon Pinsent  Canada  March 30, 2021   \n",
       "1  Mahesh Manjrekar, Abhay Mahajan, Sachin Khedekar   India  March 30, 2021   \n",
       "\n",
       "   release_year rating duration             listed_in  \n",
       "0          2014    13+  113 min         Comedy, Drama  \n",
       "1          2018    13+  110 min  Drama, International  "
      ]
     },
     "execution_count": 156,
     "metadata": {},
     "output_type": "execute_result"
    }
   ],
   "source": [
    "df.head(2)"
   ]
  },
  {
   "cell_type": "code",
   "execution_count": 157,
   "id": "7e80d929-eee1-43e5-bb03-bfa7bad46191",
   "metadata": {},
   "outputs": [
    {
     "data": {
      "text/html": [
       "<div>\n",
       "<style scoped>\n",
       "    .dataframe tbody tr th:only-of-type {\n",
       "        vertical-align: middle;\n",
       "    }\n",
       "\n",
       "    .dataframe tbody tr th {\n",
       "        vertical-align: top;\n",
       "    }\n",
       "\n",
       "    .dataframe thead th {\n",
       "        text-align: right;\n",
       "    }\n",
       "</style>\n",
       "<table border=\"1\" class=\"dataframe\">\n",
       "  <thead>\n",
       "    <tr style=\"text-align: right;\">\n",
       "      <th></th>\n",
       "      <th>show_id</th>\n",
       "      <th>type</th>\n",
       "      <th>title</th>\n",
       "      <th>director</th>\n",
       "      <th>cast</th>\n",
       "      <th>country</th>\n",
       "      <th>date_added</th>\n",
       "      <th>release_year</th>\n",
       "      <th>rating</th>\n",
       "      <th>duration</th>\n",
       "      <th>listed_in</th>\n",
       "    </tr>\n",
       "  </thead>\n",
       "  <tbody>\n",
       "    <tr>\n",
       "      <th>0</th>\n",
       "      <td>s1</td>\n",
       "      <td>Movie</td>\n",
       "      <td>The Grand Seduction</td>\n",
       "      <td>Don McKellar</td>\n",
       "      <td>Brendan Gleeson, Taylor Kitsch, Gordon Pinsent</td>\n",
       "      <td>Canada</td>\n",
       "      <td>March 30, 2021</td>\n",
       "      <td>2014</td>\n",
       "      <td>13+</td>\n",
       "      <td>113 min</td>\n",
       "      <td>Comedy, Drama</td>\n",
       "    </tr>\n",
       "    <tr>\n",
       "      <th>1</th>\n",
       "      <td>s2</td>\n",
       "      <td>Movie</td>\n",
       "      <td>Take Care Good Night</td>\n",
       "      <td>Girish Joshi</td>\n",
       "      <td>Mahesh Manjrekar, Abhay Mahajan, Sachin Khedekar</td>\n",
       "      <td>India</td>\n",
       "      <td>March 30, 2021</td>\n",
       "      <td>2018</td>\n",
       "      <td>13+</td>\n",
       "      <td>110 min</td>\n",
       "      <td>Drama, International</td>\n",
       "    </tr>\n",
       "    <tr>\n",
       "      <th>2</th>\n",
       "      <td>s3</td>\n",
       "      <td>Movie</td>\n",
       "      <td>Secrets of Deception</td>\n",
       "      <td>Josh Webber</td>\n",
       "      <td>Tom Sizemore, Lorenzo Lamas, Robert LaSardo, R...</td>\n",
       "      <td>United States</td>\n",
       "      <td>March 30, 2021</td>\n",
       "      <td>2017</td>\n",
       "      <td>13+</td>\n",
       "      <td>74 min</td>\n",
       "      <td>Action, Drama, Suspense</td>\n",
       "    </tr>\n",
       "    <tr>\n",
       "      <th>3</th>\n",
       "      <td>s4</td>\n",
       "      <td>Movie</td>\n",
       "      <td>Pink: Staying True</td>\n",
       "      <td>Sonia Anderson</td>\n",
       "      <td>Interviews with: Pink, Adele, Beyoncé, Britney...</td>\n",
       "      <td>United States</td>\n",
       "      <td>March 30, 2021</td>\n",
       "      <td>2014</td>\n",
       "      <td>13+</td>\n",
       "      <td>69 min</td>\n",
       "      <td>Documentary</td>\n",
       "    </tr>\n",
       "    <tr>\n",
       "      <th>4</th>\n",
       "      <td>s5</td>\n",
       "      <td>Movie</td>\n",
       "      <td>Monster Maker</td>\n",
       "      <td>Giles Foster</td>\n",
       "      <td>Harry Dean Stanton, Kieran O'Brien, George Cos...</td>\n",
       "      <td>United Kingdom</td>\n",
       "      <td>March 30, 2021</td>\n",
       "      <td>1989</td>\n",
       "      <td>13+</td>\n",
       "      <td>45 min</td>\n",
       "      <td>Drama, Fantasy</td>\n",
       "    </tr>\n",
       "  </tbody>\n",
       "</table>\n",
       "</div>"
      ],
      "text/plain": [
       "  show_id   type                 title        director  \\\n",
       "0      s1  Movie   The Grand Seduction    Don McKellar   \n",
       "1      s2  Movie  Take Care Good Night    Girish Joshi   \n",
       "2      s3  Movie  Secrets of Deception     Josh Webber   \n",
       "3      s4  Movie    Pink: Staying True  Sonia Anderson   \n",
       "4      s5  Movie         Monster Maker    Giles Foster   \n",
       "\n",
       "                                                cast         country  \\\n",
       "0     Brendan Gleeson, Taylor Kitsch, Gordon Pinsent          Canada   \n",
       "1   Mahesh Manjrekar, Abhay Mahajan, Sachin Khedekar           India   \n",
       "2  Tom Sizemore, Lorenzo Lamas, Robert LaSardo, R...   United States   \n",
       "3  Interviews with: Pink, Adele, Beyoncé, Britney...   United States   \n",
       "4  Harry Dean Stanton, Kieran O'Brien, George Cos...  United Kingdom   \n",
       "\n",
       "       date_added  release_year rating duration                listed_in  \n",
       "0  March 30, 2021          2014    13+  113 min            Comedy, Drama  \n",
       "1  March 30, 2021          2018    13+  110 min     Drama, International  \n",
       "2  March 30, 2021          2017    13+   74 min  Action, Drama, Suspense  \n",
       "3  March 30, 2021          2014    13+   69 min              Documentary  \n",
       "4  March 30, 2021          1989    13+   45 min           Drama, Fantasy  "
      ]
     },
     "execution_count": 157,
     "metadata": {},
     "output_type": "execute_result"
    }
   ],
   "source": [
    "df.head()"
   ]
  },
  {
   "cell_type": "markdown",
   "id": "194f21a5-b1b0-475d-aa3b-ed398e11ddaf",
   "metadata": {},
   "source": [
    "#LABEL ENCODING \n",
    "NOW CONVERTING THE HUMAN DATA INTO THAT TYPE SO THAT IT CAN EASILY READ BY THE MACHINERY."
   ]
  },
  {
   "cell_type": "code",
   "execution_count": 158,
   "id": "b431a13e-02d5-423c-808f-eb5fec1b6bda",
   "metadata": {},
   "outputs": [],
   "source": [
    "from sklearn.preprocessing import LabelEncoder"
   ]
  },
  {
   "cell_type": "code",
   "execution_count": 159,
   "id": "2d65ef1c-af6f-4a3a-8fff-c10146b16b89",
   "metadata": {},
   "outputs": [],
   "source": [
    "encoder=LabelEncoder()"
   ]
  },
  {
   "cell_type": "code",
   "execution_count": 173,
   "id": "d119a549-6237-4fdf-87ab-1a5806493c72",
   "metadata": {},
   "outputs": [],
   "source": [
    "df[\"show_id\"]=encoder.fit_transform(df[\"show_id\"])\n",
    "df[\"type\"]=encoder.fit_transform(df[\"type\"])\n",
    "df[\"country\"]=encoder.fit_transform(df[\"country\"])\n",
    "df[\"rating\"]=encoder.fit_transform(df[\"rating\"])\n",
    "df[\"listed_in\"]=encoder.fit_transform(df[\"listed_in\"])\n",
    "df[\"duration\"]=encoder.fit_transform(df[\"duration\"])\n",
    "df[\"title\"]=encoder.fit_transform(df[\"title\"])\n",
    "df[\"director\"]=encoder.fit_transform(df[\"director\"])\n",
    "df[\"cast\"]=encoder.fit_transform(df[\"cast\"])\n",
    "df[\"date_added\"]=encoder.fit_transform(df[\"date_added\"])\n"
   ]
  },
  {
   "cell_type": "code",
   "execution_count": 174,
   "id": "4e52ed97-4687-4024-9fa6-a68aec69cc88",
   "metadata": {},
   "outputs": [
    {
     "data": {
      "text/html": [
       "<div>\n",
       "<style scoped>\n",
       "    .dataframe tbody tr th:only-of-type {\n",
       "        vertical-align: middle;\n",
       "    }\n",
       "\n",
       "    .dataframe tbody tr th {\n",
       "        vertical-align: top;\n",
       "    }\n",
       "\n",
       "    .dataframe thead th {\n",
       "        text-align: right;\n",
       "    }\n",
       "</style>\n",
       "<table border=\"1\" class=\"dataframe\">\n",
       "  <thead>\n",
       "    <tr style=\"text-align: right;\">\n",
       "      <th></th>\n",
       "      <th>show_id</th>\n",
       "      <th>type</th>\n",
       "      <th>title</th>\n",
       "      <th>director</th>\n",
       "      <th>cast</th>\n",
       "      <th>country</th>\n",
       "      <th>date_added</th>\n",
       "      <th>release_year</th>\n",
       "      <th>rating</th>\n",
       "      <th>duration</th>\n",
       "      <th>listed_in</th>\n",
       "    </tr>\n",
       "  </thead>\n",
       "  <tbody>\n",
       "    <tr>\n",
       "      <th>0</th>\n",
       "      <td>0</td>\n",
       "      <td>0</td>\n",
       "      <td>8009</td>\n",
       "      <td>1464</td>\n",
       "      <td>984</td>\n",
       "      <td>8</td>\n",
       "      <td>47</td>\n",
       "      <td>2014</td>\n",
       "      <td>0</td>\n",
       "      <td>20</td>\n",
       "      <td>267</td>\n",
       "    </tr>\n",
       "    <tr>\n",
       "      <th>1</th>\n",
       "      <td>1111</td>\n",
       "      <td>0</td>\n",
       "      <td>7489</td>\n",
       "      <td>1898</td>\n",
       "      <td>4639</td>\n",
       "      <td>26</td>\n",
       "      <td>47</td>\n",
       "      <td>2018</td>\n",
       "      <td>0</td>\n",
       "      <td>17</td>\n",
       "      <td>387</td>\n",
       "    </tr>\n",
       "    <tr>\n",
       "      <th>2</th>\n",
       "      <td>2222</td>\n",
       "      <td>0</td>\n",
       "      <td>6796</td>\n",
       "      <td>2789</td>\n",
       "      <td>7384</td>\n",
       "      <td>60</td>\n",
       "      <td>47</td>\n",
       "      <td>2017</td>\n",
       "      <td>0</td>\n",
       "      <td>189</td>\n",
       "      <td>71</td>\n",
       "    </tr>\n",
       "    <tr>\n",
       "      <th>3</th>\n",
       "      <td>3333</td>\n",
       "      <td>0</td>\n",
       "      <td>6038</td>\n",
       "      <td>5017</td>\n",
       "      <td>2932</td>\n",
       "      <td>60</td>\n",
       "      <td>47</td>\n",
       "      <td>2014</td>\n",
       "      <td>0</td>\n",
       "      <td>182</td>\n",
       "      <td>321</td>\n",
       "    </tr>\n",
       "    <tr>\n",
       "      <th>4</th>\n",
       "      <td>4444</td>\n",
       "      <td>0</td>\n",
       "      <td>5225</td>\n",
       "      <td>1888</td>\n",
       "      <td>2760</td>\n",
       "      <td>51</td>\n",
       "      <td>47</td>\n",
       "      <td>1989</td>\n",
       "      <td>0</td>\n",
       "      <td>146</td>\n",
       "      <td>368</td>\n",
       "    </tr>\n",
       "  </tbody>\n",
       "</table>\n",
       "</div>"
      ],
      "text/plain": [
       "   show_id  type  title  director  cast  country  date_added  release_year  \\\n",
       "0        0     0   8009      1464   984        8          47          2014   \n",
       "1     1111     0   7489      1898  4639       26          47          2018   \n",
       "2     2222     0   6796      2789  7384       60          47          2017   \n",
       "3     3333     0   6038      5017  2932       60          47          2014   \n",
       "4     4444     0   5225      1888  2760       51          47          1989   \n",
       "\n",
       "   rating  duration  listed_in  \n",
       "0       0        20        267  \n",
       "1       0        17        387  \n",
       "2       0       189         71  \n",
       "3       0       182        321  \n",
       "4       0       146        368  "
      ]
     },
     "execution_count": 174,
     "metadata": {},
     "output_type": "execute_result"
    }
   ],
   "source": [
    "df.head()"
   ]
  },
  {
   "cell_type": "code",
   "execution_count": 175,
   "id": "f2600045-822f-45cd-98c9-883a8e47f928",
   "metadata": {},
   "outputs": [
    {
     "name": "stdout",
     "output_type": "stream",
     "text": [
      "show_id         0\n",
      "type            0\n",
      "title           0\n",
      "director        0\n",
      "cast            0\n",
      "country         0\n",
      "date_added      0\n",
      "release_year    0\n",
      "rating          0\n",
      "duration        0\n",
      "listed_in       0\n",
      "dtype: int64\n"
     ]
    }
   ],
   "source": [
    "print(df.isnull().sum())"
   ]
  },
  {
   "cell_type": "code",
   "execution_count": 176,
   "id": "700a4360-0220-49d5-aecd-148806059ea5",
   "metadata": {},
   "outputs": [],
   "source": [
    "X=df.drop(\"duration\",axis=1)\n",
    "y=df[\"duration\"]"
   ]
  },
  {
   "cell_type": "code",
   "execution_count": 177,
   "id": "6f96b72d-f113-4103-815f-7dd80028c917",
   "metadata": {},
   "outputs": [],
   "source": [
    "from sklearn.model_selection import train_test_split"
   ]
  },
  {
   "cell_type": "code",
   "execution_count": 178,
   "id": "d47746f4-d72f-410a-8b6a-33dd3a60b86a",
   "metadata": {},
   "outputs": [],
   "source": [
    "X_train,X_test,y_train,y_test= train_test_split(X,y,random_state=102,test_size=0.2)"
   ]
  },
  {
   "cell_type": "code",
   "execution_count": 179,
   "id": "1b872236-edca-4827-abc5-a6d6dd5f9967",
   "metadata": {},
   "outputs": [],
   "source": [
    "from sklearn.ensemble import RandomForestClassifier"
   ]
  },
  {
   "cell_type": "code",
   "execution_count": 180,
   "id": "92a6f32a-6518-4109-b931-7fa5efb61545",
   "metadata": {},
   "outputs": [],
   "source": [
    "rr=RandomForestClassifier()"
   ]
  },
  {
   "cell_type": "code",
   "execution_count": 181,
   "id": "d0c71781-fe98-4acc-ac18-cbd78e2fd110",
   "metadata": {},
   "outputs": [
    {
     "data": {
      "text/html": [
       "<style>#sk-container-id-1 {color: black;}#sk-container-id-1 pre{padding: 0;}#sk-container-id-1 div.sk-toggleable {background-color: white;}#sk-container-id-1 label.sk-toggleable__label {cursor: pointer;display: block;width: 100%;margin-bottom: 0;padding: 0.3em;box-sizing: border-box;text-align: center;}#sk-container-id-1 label.sk-toggleable__label-arrow:before {content: \"▸\";float: left;margin-right: 0.25em;color: #696969;}#sk-container-id-1 label.sk-toggleable__label-arrow:hover:before {color: black;}#sk-container-id-1 div.sk-estimator:hover label.sk-toggleable__label-arrow:before {color: black;}#sk-container-id-1 div.sk-toggleable__content {max-height: 0;max-width: 0;overflow: hidden;text-align: left;background-color: #f0f8ff;}#sk-container-id-1 div.sk-toggleable__content pre {margin: 0.2em;color: black;border-radius: 0.25em;background-color: #f0f8ff;}#sk-container-id-1 input.sk-toggleable__control:checked~div.sk-toggleable__content {max-height: 200px;max-width: 100%;overflow: auto;}#sk-container-id-1 input.sk-toggleable__control:checked~label.sk-toggleable__label-arrow:before {content: \"▾\";}#sk-container-id-1 div.sk-estimator input.sk-toggleable__control:checked~label.sk-toggleable__label {background-color: #d4ebff;}#sk-container-id-1 div.sk-label input.sk-toggleable__control:checked~label.sk-toggleable__label {background-color: #d4ebff;}#sk-container-id-1 input.sk-hidden--visually {border: 0;clip: rect(1px 1px 1px 1px);clip: rect(1px, 1px, 1px, 1px);height: 1px;margin: -1px;overflow: hidden;padding: 0;position: absolute;width: 1px;}#sk-container-id-1 div.sk-estimator {font-family: monospace;background-color: #f0f8ff;border: 1px dotted black;border-radius: 0.25em;box-sizing: border-box;margin-bottom: 0.5em;}#sk-container-id-1 div.sk-estimator:hover {background-color: #d4ebff;}#sk-container-id-1 div.sk-parallel-item::after {content: \"\";width: 100%;border-bottom: 1px solid gray;flex-grow: 1;}#sk-container-id-1 div.sk-label:hover label.sk-toggleable__label {background-color: #d4ebff;}#sk-container-id-1 div.sk-serial::before {content: \"\";position: absolute;border-left: 1px solid gray;box-sizing: border-box;top: 0;bottom: 0;left: 50%;z-index: 0;}#sk-container-id-1 div.sk-serial {display: flex;flex-direction: column;align-items: center;background-color: white;padding-right: 0.2em;padding-left: 0.2em;position: relative;}#sk-container-id-1 div.sk-item {position: relative;z-index: 1;}#sk-container-id-1 div.sk-parallel {display: flex;align-items: stretch;justify-content: center;background-color: white;position: relative;}#sk-container-id-1 div.sk-item::before, #sk-container-id-1 div.sk-parallel-item::before {content: \"\";position: absolute;border-left: 1px solid gray;box-sizing: border-box;top: 0;bottom: 0;left: 50%;z-index: -1;}#sk-container-id-1 div.sk-parallel-item {display: flex;flex-direction: column;z-index: 1;position: relative;background-color: white;}#sk-container-id-1 div.sk-parallel-item:first-child::after {align-self: flex-end;width: 50%;}#sk-container-id-1 div.sk-parallel-item:last-child::after {align-self: flex-start;width: 50%;}#sk-container-id-1 div.sk-parallel-item:only-child::after {width: 0;}#sk-container-id-1 div.sk-dashed-wrapped {border: 1px dashed gray;margin: 0 0.4em 0.5em 0.4em;box-sizing: border-box;padding-bottom: 0.4em;background-color: white;}#sk-container-id-1 div.sk-label label {font-family: monospace;font-weight: bold;display: inline-block;line-height: 1.2em;}#sk-container-id-1 div.sk-label-container {text-align: center;}#sk-container-id-1 div.sk-container {/* jupyter's `normalize.less` sets `[hidden] { display: none; }` but bootstrap.min.css set `[hidden] { display: none !important; }` so we also need the `!important` here to be able to override the default hidden behavior on the sphinx rendered scikit-learn.org. See: https://github.com/scikit-learn/scikit-learn/issues/21755 */display: inline-block !important;position: relative;}#sk-container-id-1 div.sk-text-repr-fallback {display: none;}</style><div id=\"sk-container-id-1\" class=\"sk-top-container\"><div class=\"sk-text-repr-fallback\"><pre>RandomForestClassifier()</pre><b>In a Jupyter environment, please rerun this cell to show the HTML representation or trust the notebook. <br />On GitHub, the HTML representation is unable to render, please try loading this page with nbviewer.org.</b></div><div class=\"sk-container\" hidden><div class=\"sk-item\"><div class=\"sk-estimator sk-toggleable\"><input class=\"sk-toggleable__control sk-hidden--visually\" id=\"sk-estimator-id-1\" type=\"checkbox\" checked><label for=\"sk-estimator-id-1\" class=\"sk-toggleable__label sk-toggleable__label-arrow\">RandomForestClassifier</label><div class=\"sk-toggleable__content\"><pre>RandomForestClassifier()</pre></div></div></div></div></div>"
      ],
      "text/plain": [
       "RandomForestClassifier()"
      ]
     },
     "execution_count": 181,
     "metadata": {},
     "output_type": "execute_result"
    }
   ],
   "source": [
    "rr.fit(X_train,y_train)"
   ]
  },
  {
   "cell_type": "code",
   "execution_count": 182,
   "id": "e28f0498-31ea-437d-8ae2-52e9a79a61f3",
   "metadata": {},
   "outputs": [],
   "source": [
    "prediction=rr.predict(X_test)"
   ]
  },
  {
   "cell_type": "code",
   "execution_count": 184,
   "id": "61529af3-da50-47db-9faa-85f76a8ddee7",
   "metadata": {},
   "outputs": [],
   "source": [
    "from sklearn.metrics import classification_report,confusion_matrix"
   ]
  },
  {
   "cell_type": "code",
   "execution_count": 185,
   "id": "35776ad5-39cf-4b57-86be-8ea45145c615",
   "metadata": {},
   "outputs": [
    {
     "name": "stdout",
     "output_type": "stream",
     "text": [
      "[[  2   0   0 ...   0   0   0]\n",
      " [  0 281   0 ...   0   0   0]\n",
      " [  0   0   1 ...   0   0   0]\n",
      " ...\n",
      " [  0   0   0 ...   0   2   1]\n",
      " [  0   0   0 ...   0   1   1]\n",
      " [  0   0   0 ...   0   1   1]]\n"
     ]
    }
   ],
   "source": [
    "print(confusion_matrix(y_test,prediction))"
   ]
  },
  {
   "cell_type": "code",
   "execution_count": 186,
   "id": "29fdfd12-ec35-4288-9322-1e9b812f0a5a",
   "metadata": {},
   "outputs": [
    {
     "name": "stdout",
     "output_type": "stream",
     "text": [
      "              precision    recall  f1-score   support\n",
      "\n",
      "           0       0.67      1.00      0.80         2\n",
      "           1       0.74      0.99      0.84       285\n",
      "           2       0.33      0.50      0.40         2\n",
      "           4       0.00      0.00      0.00         2\n",
      "           5       0.00      0.00      0.00        29\n",
      "           6       0.00      0.00      0.00        23\n",
      "           7       0.00      0.00      0.00        17\n",
      "           8       0.13      0.19      0.15        16\n",
      "           9       0.00      0.00      0.00        12\n",
      "          10       0.00      0.00      0.00        20\n",
      "          11       0.00      0.00      0.00        11\n",
      "          12       0.00      0.00      0.00        11\n",
      "          13       0.00      0.00      0.00         8\n",
      "          14       0.07      0.06      0.06        17\n",
      "          16       0.00      0.00      0.00         1\n",
      "          17       0.00      0.00      0.00        10\n",
      "          18       0.00      0.00      0.00        12\n",
      "          19       0.12      0.07      0.09        15\n",
      "          20       0.00      0.00      0.00         9\n",
      "          21       0.00      0.00      0.00         5\n",
      "          22       0.00      0.00      0.00         7\n",
      "          23       0.00      0.00      0.00         7\n",
      "          24       0.00      0.00      0.00         7\n",
      "          25       0.00      0.00      0.00        10\n",
      "          26       0.20      0.33      0.25         6\n",
      "          27       0.00      0.00      0.00         1\n",
      "          28       0.00      0.00      0.00         3\n",
      "          29       0.00      0.00      0.00        12\n",
      "          30       0.00      0.00      0.00         6\n",
      "          31       0.00      0.00      0.00         9\n",
      "          32       0.00      0.00      0.00         8\n",
      "          33       0.00      0.00      0.00         6\n",
      "          34       0.50      0.09      0.15        11\n",
      "          35       0.33      0.33      0.33         6\n",
      "          36       0.12      0.11      0.12         9\n",
      "          37       0.20      0.33      0.25         3\n",
      "          38       0.00      0.00      0.00         6\n",
      "          39       0.00      0.00      0.00         1\n",
      "          40       0.00      0.00      0.00         2\n",
      "          41       0.25      0.12      0.17         8\n",
      "          42       0.33      0.33      0.33         6\n",
      "          43       0.14      0.33      0.20         3\n",
      "          44       0.00      0.00      0.00         4\n",
      "          45       0.00      0.00      0.00         8\n",
      "          46       0.20      0.09      0.13        11\n",
      "          47       0.25      0.25      0.25         4\n",
      "          48       0.08      0.12      0.10         8\n",
      "          49       0.00      0.00      0.00         4\n",
      "          50       0.00      0.00      0.00         1\n",
      "          51       0.00      0.00      0.00         4\n",
      "          52       0.50      0.50      0.50         6\n",
      "          53       0.00      0.00      0.00         5\n",
      "          54       0.00      0.00      0.00         3\n",
      "          55       0.00      0.00      0.00         0\n",
      "          56       0.00      0.00      0.00         3\n",
      "          57       0.40      0.50      0.44         4\n",
      "          58       0.00      0.00      0.00         1\n",
      "          59       0.25      0.12      0.17         8\n",
      "          60       0.00      0.00      0.00         3\n",
      "          61       0.00      0.00      0.00         3\n",
      "          63       1.00      0.67      0.80         3\n",
      "          64       0.00      0.00      0.00         6\n",
      "          65       0.33      0.11      0.17         9\n",
      "          66       0.50      0.50      0.50         2\n",
      "          67       0.00      0.00      0.00         2\n",
      "          68       0.00      0.00      0.00         2\n",
      "          69       0.00      0.00      0.00         4\n",
      "          70       0.00      0.00      0.00         3\n",
      "          71       0.00      0.00      0.00         2\n",
      "          72       0.00      0.00      0.00         0\n",
      "          73       0.33      0.25      0.29         4\n",
      "          74       0.00      0.00      0.00         1\n",
      "          75       0.00      0.00      0.00         2\n",
      "          76       1.00      0.50      0.67         4\n",
      "          77       0.00      0.00      0.00         0\n",
      "          78       0.00      0.00      0.00         0\n",
      "          79       0.00      0.00      0.00         0\n",
      "          80       0.00      0.00      0.00         2\n",
      "          82       0.00      0.00      0.00         3\n",
      "          84       0.00      0.00      0.00         1\n",
      "          85       1.00      0.33      0.50         3\n",
      "          86       1.00      0.33      0.50         3\n",
      "          87       0.33      1.00      0.50         1\n",
      "          88       0.00      0.00      0.00         1\n",
      "          89       0.00      0.00      0.00         1\n",
      "          90       0.00      0.00      0.00         1\n",
      "          91       0.00      0.00      0.00         2\n",
      "          92       0.00      0.00      0.00         1\n",
      "          93       0.00      0.00      0.00         1\n",
      "          94       0.00      0.00      0.00         0\n",
      "          95       0.00      0.00      0.00         2\n",
      "          96       0.00      0.00      0.00         0\n",
      "         103       0.00      0.00      0.00         1\n",
      "         104       0.00      0.00      0.00         3\n",
      "         106       0.00      0.00      0.00         1\n",
      "         108       0.00      0.00      0.00         0\n",
      "         109       0.58      0.23      0.33        64\n",
      "         110       0.00      0.00      0.00         1\n",
      "         111       0.00      0.00      0.00         2\n",
      "         112       0.00      0.00      0.00         0\n",
      "         113       0.00      0.00      0.00         1\n",
      "         115       0.20      0.50      0.29         2\n",
      "         116       0.20      0.20      0.20        10\n",
      "         117       0.33      0.25      0.29         4\n",
      "         118       0.00      0.00      0.00         1\n",
      "         120       0.00      0.00      0.00         5\n",
      "         121       0.00      0.00      0.00         2\n",
      "         122       0.00      0.00      0.00         1\n",
      "         123       0.00      0.00      0.00         1\n",
      "         126       0.00      0.00      0.00         2\n",
      "         127       0.33      0.05      0.09        19\n",
      "         128       0.00      0.00      0.00         3\n",
      "         129       0.50      0.33      0.40         9\n",
      "         130       0.12      0.25      0.17         4\n",
      "         131       0.00      0.00      0.00         2\n",
      "         132       0.00      0.00      0.00         3\n",
      "         133       0.00      0.00      0.00         1\n",
      "         134       0.00      0.00      0.00         0\n",
      "         135       0.00      0.00      0.00         1\n",
      "         136       0.00      0.00      0.00         1\n",
      "         137       0.00      0.00      0.00         5\n",
      "         138       0.00      0.00      0.00         1\n",
      "         139       0.00      0.00      0.00        15\n",
      "         140       0.00      0.00      0.00         1\n",
      "         141       0.00      0.00      0.00         1\n",
      "         142       0.00      0.00      0.00         7\n",
      "         143       0.50      0.33      0.40         6\n",
      "         144       0.17      0.25      0.20         4\n",
      "         145       0.00      0.00      0.00         3\n",
      "         146       0.00      0.00      0.00         9\n",
      "         147       0.00      0.00      0.00         2\n",
      "         148       0.00      0.00      0.00         4\n",
      "         149       0.00      0.00      0.00         0\n",
      "         150       0.00      0.00      0.00         4\n",
      "         151       0.00      0.00      0.00         1\n",
      "         153       0.00      0.00      0.00         0\n",
      "         154       0.20      0.14      0.17         7\n",
      "         155       0.00      0.00      0.00         9\n",
      "         156       1.00      0.60      0.75         5\n",
      "         157       0.00      0.00      0.00         9\n",
      "         158       0.20      0.40      0.27         5\n",
      "         159       0.00      0.00      0.00        13\n",
      "         160       0.38      0.46      0.41        13\n",
      "         161       0.00      0.00      0.00         7\n",
      "         162       0.00      0.00      0.00         1\n",
      "         163       0.00      0.00      0.00         0\n",
      "         164       0.12      0.14      0.13         7\n",
      "         166       0.00      0.00      0.00         9\n",
      "         167       0.11      0.17      0.13         6\n",
      "         168       0.33      0.23      0.27        13\n",
      "         169       0.00      0.00      0.00         6\n",
      "         170       0.00      0.00      0.00         8\n",
      "         171       0.00      0.00      0.00         2\n",
      "         172       0.27      0.32      0.29        19\n",
      "         174       0.29      0.38      0.33        13\n",
      "         175       0.25      0.14      0.18         7\n",
      "         176       0.00      0.00      0.00         4\n",
      "         177       0.50      0.29      0.36         7\n",
      "         178       0.00      0.00      0.00         3\n",
      "         179       0.00      0.00      0.00         6\n",
      "         180       0.00      0.00      0.00        10\n",
      "         181       0.00      0.00      0.00         7\n",
      "         182       0.00      0.00      0.00         7\n",
      "         183       0.00      0.00      0.00         3\n",
      "         184       0.00      0.00      0.00         2\n",
      "         185       0.10      0.08      0.09        13\n",
      "         186       0.10      0.08      0.09        13\n",
      "         187       0.00      0.00      0.00         8\n",
      "         188       0.00      0.00      0.00         6\n",
      "         189       0.17      0.10      0.12        10\n",
      "         190       0.00      0.00      0.00        11\n",
      "         191       0.00      0.00      0.00        10\n",
      "         192       0.11      0.12      0.12         8\n",
      "         193       0.00      0.00      0.00        13\n",
      "         194       0.00      0.00      0.00        14\n",
      "         195       0.00      0.00      0.00         1\n",
      "         197       0.06      0.04      0.05        24\n",
      "         198       0.00      0.00      0.00        15\n",
      "         199       0.00      0.00      0.00        16\n",
      "         200       0.07      0.03      0.05        29\n",
      "         201       0.00      0.00      0.00        28\n",
      "         202       0.05      0.04      0.04        26\n",
      "         203       0.05      0.07      0.06        27\n",
      "         204       0.10      0.13      0.11        31\n",
      "         205       0.07      0.11      0.09        36\n",
      "         206       0.11      0.10      0.11        48\n",
      "         207       0.00      0.00      0.00         4\n",
      "         208       0.00      0.00      0.00         1\n",
      "         209       0.06      0.06      0.06        47\n",
      "         210       0.08      0.07      0.08        58\n",
      "         211       0.05      0.08      0.06        38\n",
      "         212       0.07      0.10      0.08        30\n",
      "         213       0.04      0.07      0.05        30\n",
      "         214       0.12      0.12      0.12        33\n",
      "         215       0.10      0.07      0.08        28\n",
      "         216       0.00      0.00      0.00        26\n",
      "         217       0.05      0.04      0.05        23\n",
      "         218       0.03      0.04      0.04        24\n",
      "\n",
      "    accuracy                           0.22      1934\n",
      "   macro avg       0.10      0.09      0.09      1934\n",
      "weighted avg       0.20      0.22      0.20      1934\n",
      "\n"
     ]
    },
    {
     "name": "stderr",
     "output_type": "stream",
     "text": [
      "C:\\Users\\anshm\\AppData\\Roaming\\Python\\Python312\\site-packages\\sklearn\\metrics\\_classification.py:1471: UndefinedMetricWarning: Precision and F-score are ill-defined and being set to 0.0 in labels with no predicted samples. Use `zero_division` parameter to control this behavior.\n",
      "  _warn_prf(average, modifier, msg_start, len(result))\n",
      "C:\\Users\\anshm\\AppData\\Roaming\\Python\\Python312\\site-packages\\sklearn\\metrics\\_classification.py:1471: UndefinedMetricWarning: Recall and F-score are ill-defined and being set to 0.0 in labels with no true samples. Use `zero_division` parameter to control this behavior.\n",
      "  _warn_prf(average, modifier, msg_start, len(result))\n",
      "C:\\Users\\anshm\\AppData\\Roaming\\Python\\Python312\\site-packages\\sklearn\\metrics\\_classification.py:1471: UndefinedMetricWarning: Precision and F-score are ill-defined and being set to 0.0 in labels with no predicted samples. Use `zero_division` parameter to control this behavior.\n",
      "  _warn_prf(average, modifier, msg_start, len(result))\n",
      "C:\\Users\\anshm\\AppData\\Roaming\\Python\\Python312\\site-packages\\sklearn\\metrics\\_classification.py:1471: UndefinedMetricWarning: Recall and F-score are ill-defined and being set to 0.0 in labels with no true samples. Use `zero_division` parameter to control this behavior.\n",
      "  _warn_prf(average, modifier, msg_start, len(result))\n",
      "C:\\Users\\anshm\\AppData\\Roaming\\Python\\Python312\\site-packages\\sklearn\\metrics\\_classification.py:1471: UndefinedMetricWarning: Precision and F-score are ill-defined and being set to 0.0 in labels with no predicted samples. Use `zero_division` parameter to control this behavior.\n",
      "  _warn_prf(average, modifier, msg_start, len(result))\n",
      "C:\\Users\\anshm\\AppData\\Roaming\\Python\\Python312\\site-packages\\sklearn\\metrics\\_classification.py:1471: UndefinedMetricWarning: Recall and F-score are ill-defined and being set to 0.0 in labels with no true samples. Use `zero_division` parameter to control this behavior.\n",
      "  _warn_prf(average, modifier, msg_start, len(result))\n"
     ]
    }
   ],
   "source": [
    "print(classification_report(y_test,prediction))"
   ]
  },
  {
   "cell_type": "code",
   "execution_count": 187,
   "id": "f1f32ea3-fa3e-4e7f-82bd-71864e2dc01a",
   "metadata": {},
   "outputs": [],
   "source": [
    "from sklearn.metrics import accuracy_score"
   ]
  },
  {
   "cell_type": "code",
   "execution_count": 189,
   "id": "1177f581-ba3e-4c1e-a50f-afb1fa7dd54a",
   "metadata": {},
   "outputs": [],
   "source": [
    "accuracy = accuracy_score(y_test, prediction)"
   ]
  },
  {
   "cell_type": "code",
   "execution_count": 194,
   "id": "4c50d0ee-3497-4831-adfd-c4aa31d47977",
   "metadata": {},
   "outputs": [
    {
     "name": "stdout",
     "output_type": "stream",
     "text": [
      "7.684190473137357e-67\n"
     ]
    }
   ],
   "source": [
    "print(accuracy**100)"
   ]
  },
  {
   "cell_type": "code",
   "execution_count": 195,
   "id": "33c071cc-bee8-4808-beed-3af2a91da805",
   "metadata": {},
   "outputs": [
    {
     "data": {
      "text/html": [
       "<div>\n",
       "<style scoped>\n",
       "    .dataframe tbody tr th:only-of-type {\n",
       "        vertical-align: middle;\n",
       "    }\n",
       "\n",
       "    .dataframe tbody tr th {\n",
       "        vertical-align: top;\n",
       "    }\n",
       "\n",
       "    .dataframe thead th {\n",
       "        text-align: right;\n",
       "    }\n",
       "</style>\n",
       "<table border=\"1\" class=\"dataframe\">\n",
       "  <thead>\n",
       "    <tr style=\"text-align: right;\">\n",
       "      <th></th>\n",
       "      <th>show_id</th>\n",
       "      <th>type</th>\n",
       "      <th>title</th>\n",
       "      <th>director</th>\n",
       "      <th>cast</th>\n",
       "      <th>country</th>\n",
       "      <th>date_added</th>\n",
       "      <th>release_year</th>\n",
       "      <th>rating</th>\n",
       "      <th>duration</th>\n",
       "      <th>listed_in</th>\n",
       "    </tr>\n",
       "  </thead>\n",
       "  <tbody>\n",
       "    <tr>\n",
       "      <th>0</th>\n",
       "      <td>0</td>\n",
       "      <td>0</td>\n",
       "      <td>8009</td>\n",
       "      <td>1464</td>\n",
       "      <td>984</td>\n",
       "      <td>8</td>\n",
       "      <td>47</td>\n",
       "      <td>2014</td>\n",
       "      <td>0</td>\n",
       "      <td>20</td>\n",
       "      <td>267</td>\n",
       "    </tr>\n",
       "    <tr>\n",
       "      <th>1</th>\n",
       "      <td>1111</td>\n",
       "      <td>0</td>\n",
       "      <td>7489</td>\n",
       "      <td>1898</td>\n",
       "      <td>4639</td>\n",
       "      <td>26</td>\n",
       "      <td>47</td>\n",
       "      <td>2018</td>\n",
       "      <td>0</td>\n",
       "      <td>17</td>\n",
       "      <td>387</td>\n",
       "    </tr>\n",
       "    <tr>\n",
       "      <th>2</th>\n",
       "      <td>2222</td>\n",
       "      <td>0</td>\n",
       "      <td>6796</td>\n",
       "      <td>2789</td>\n",
       "      <td>7384</td>\n",
       "      <td>60</td>\n",
       "      <td>47</td>\n",
       "      <td>2017</td>\n",
       "      <td>0</td>\n",
       "      <td>189</td>\n",
       "      <td>71</td>\n",
       "    </tr>\n",
       "    <tr>\n",
       "      <th>3</th>\n",
       "      <td>3333</td>\n",
       "      <td>0</td>\n",
       "      <td>6038</td>\n",
       "      <td>5017</td>\n",
       "      <td>2932</td>\n",
       "      <td>60</td>\n",
       "      <td>47</td>\n",
       "      <td>2014</td>\n",
       "      <td>0</td>\n",
       "      <td>182</td>\n",
       "      <td>321</td>\n",
       "    </tr>\n",
       "    <tr>\n",
       "      <th>4</th>\n",
       "      <td>4444</td>\n",
       "      <td>0</td>\n",
       "      <td>5225</td>\n",
       "      <td>1888</td>\n",
       "      <td>2760</td>\n",
       "      <td>51</td>\n",
       "      <td>47</td>\n",
       "      <td>1989</td>\n",
       "      <td>0</td>\n",
       "      <td>146</td>\n",
       "      <td>368</td>\n",
       "    </tr>\n",
       "  </tbody>\n",
       "</table>\n",
       "</div>"
      ],
      "text/plain": [
       "   show_id  type  title  director  cast  country  date_added  release_year  \\\n",
       "0        0     0   8009      1464   984        8          47          2014   \n",
       "1     1111     0   7489      1898  4639       26          47          2018   \n",
       "2     2222     0   6796      2789  7384       60          47          2017   \n",
       "3     3333     0   6038      5017  2932       60          47          2014   \n",
       "4     4444     0   5225      1888  2760       51          47          1989   \n",
       "\n",
       "   rating  duration  listed_in  \n",
       "0       0        20        267  \n",
       "1       0        17        387  \n",
       "2       0       189         71  \n",
       "3       0       182        321  \n",
       "4       0       146        368  "
      ]
     },
     "execution_count": 195,
     "metadata": {},
     "output_type": "execute_result"
    }
   ],
   "source": [
    "df.head()"
   ]
  },
  {
   "cell_type": "code",
   "execution_count": null,
   "id": "e44479d9-24cd-41ff-a67a-5c2d70e7ff6a",
   "metadata": {},
   "outputs": [],
   "source": []
  },
  {
   "cell_type": "code",
   "execution_count": null,
   "id": "47389f2f-5141-48cd-ab1d-acf563da747b",
   "metadata": {},
   "outputs": [],
   "source": []
  },
  {
   "cell_type": "code",
   "execution_count": null,
   "id": "bb358dd6-f425-4f7e-9a11-4a79d8980622",
   "metadata": {},
   "outputs": [],
   "source": []
  },
  {
   "cell_type": "code",
   "execution_count": null,
   "id": "b3ff20a7-bd19-4f66-bac4-8dcb66dc2e5b",
   "metadata": {},
   "outputs": [],
   "source": []
  },
  {
   "cell_type": "code",
   "execution_count": null,
   "id": "7eceb855-7f4f-42e7-8472-2fc9fa7da179",
   "metadata": {},
   "outputs": [],
   "source": []
  },
  {
   "cell_type": "code",
   "execution_count": null,
   "id": "121c88e1-b085-4620-ab15-7d7ec19e61b3",
   "metadata": {},
   "outputs": [],
   "source": []
  }
 ],
 "metadata": {
  "kernelspec": {
   "display_name": "Python 3 (ipykernel)",
   "language": "python",
   "name": "python3"
  },
  "language_info": {
   "codemirror_mode": {
    "name": "ipython",
    "version": 3
   },
   "file_extension": ".py",
   "mimetype": "text/x-python",
   "name": "python",
   "nbconvert_exporter": "python",
   "pygments_lexer": "ipython3",
   "version": "3.12.1"
  }
 },
 "nbformat": 4,
 "nbformat_minor": 5
}
